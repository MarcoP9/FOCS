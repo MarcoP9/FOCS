{
 "cells": [
  {
   "cell_type": "markdown",
   "metadata": {},
   "source": [
    "# Computer Science Project"
   ]
  },
  {
   "cell_type": "code",
   "execution_count": 1,
   "metadata": {},
   "outputs": [],
   "source": [
    "import pandas as pd\n",
    "import numpy as np"
   ]
  },
  {
   "cell_type": "markdown",
   "metadata": {},
   "source": [
    "#### 1. Normalize the *loan_lenders* table. In the normalized table, each row must have one *loan_id* and one *lender*."
   ]
  },
  {
   "cell_type": "code",
   "execution_count": 68,
   "metadata": {},
   "outputs": [],
   "source": [
    "loans_lenders = pd.read_csv(\"loans_lenders.csv\", nrows = 1000)"
   ]
  },
  {
   "cell_type": "markdown",
   "metadata": {},
   "source": [
    "Normalizzare la tabella significa che ogni cella deve contenere una sola informazione. In questo caso la colonna *lender* possiede diversi nomi, quindi è necessario duplicare il valore di *loan_id* tante volte quante sono i lender."
   ]
  },
  {
   "cell_type": "code",
   "execution_count": 8,
   "metadata": {},
   "outputs": [
    {
     "data": {
      "text/html": [
       "<div>\n",
       "<style scoped>\n",
       "    .dataframe tbody tr th:only-of-type {\n",
       "        vertical-align: middle;\n",
       "    }\n",
       "\n",
       "    .dataframe tbody tr th {\n",
       "        vertical-align: top;\n",
       "    }\n",
       "\n",
       "    .dataframe thead th {\n",
       "        text-align: right;\n",
       "    }\n",
       "</style>\n",
       "<table border=\"1\" class=\"dataframe\">\n",
       "  <thead>\n",
       "    <tr style=\"text-align: right;\">\n",
       "      <th></th>\n",
       "      <th>loan_id</th>\n",
       "      <th>lenders</th>\n",
       "    </tr>\n",
       "  </thead>\n",
       "  <tbody>\n",
       "    <tr>\n",
       "      <th>0</th>\n",
       "      <td>483693</td>\n",
       "      <td>muc888, sam4326, camaran3922, lachheb1865, reb...</td>\n",
       "    </tr>\n",
       "    <tr>\n",
       "      <th>1</th>\n",
       "      <td>483738</td>\n",
       "      <td>muc888, nora3555, williammanashi, barbara5610,...</td>\n",
       "    </tr>\n",
       "    <tr>\n",
       "      <th>2</th>\n",
       "      <td>485000</td>\n",
       "      <td>muc888, terrystl, richardandsusan8352, sherri4...</td>\n",
       "    </tr>\n",
       "    <tr>\n",
       "      <th>3</th>\n",
       "      <td>486087</td>\n",
       "      <td>muc888, james5068, rudi5955, daniel9859, don92...</td>\n",
       "    </tr>\n",
       "    <tr>\n",
       "      <th>4</th>\n",
       "      <td>534428</td>\n",
       "      <td>muc888, niki3008, teresa9174, mike4896, david7...</td>\n",
       "    </tr>\n",
       "    <tr>\n",
       "      <th>...</th>\n",
       "      <td>...</td>\n",
       "      <td>...</td>\n",
       "    </tr>\n",
       "    <tr>\n",
       "      <th>995</th>\n",
       "      <td>497205</td>\n",
       "      <td>nick1135, nick1135, marcusoh, scott57469017, c...</td>\n",
       "    </tr>\n",
       "    <tr>\n",
       "      <th>996</th>\n",
       "      <td>590982</td>\n",
       "      <td>jonathan7845, micah4814, ilia4401, angie6388, ...</td>\n",
       "    </tr>\n",
       "    <tr>\n",
       "      <th>997</th>\n",
       "      <td>369988</td>\n",
       "      <td>jeroen6107, sibylla8116, nicholas6826, jim5285...</td>\n",
       "    </tr>\n",
       "    <tr>\n",
       "      <th>998</th>\n",
       "      <td>567092</td>\n",
       "      <td>miikka2096, haleyconner, stephanie8503, obay16...</td>\n",
       "    </tr>\n",
       "    <tr>\n",
       "      <th>999</th>\n",
       "      <td>495013</td>\n",
       "      <td>barb1192, yannis8960, david7906, rick7824, wen...</td>\n",
       "    </tr>\n",
       "  </tbody>\n",
       "</table>\n",
       "<p>1000 rows × 2 columns</p>\n",
       "</div>"
      ],
      "text/plain": [
       "     loan_id                                            lenders\n",
       "0     483693  muc888, sam4326, camaran3922, lachheb1865, reb...\n",
       "1     483738  muc888, nora3555, williammanashi, barbara5610,...\n",
       "2     485000  muc888, terrystl, richardandsusan8352, sherri4...\n",
       "3     486087  muc888, james5068, rudi5955, daniel9859, don92...\n",
       "4     534428  muc888, niki3008, teresa9174, mike4896, david7...\n",
       "..       ...                                                ...\n",
       "995   497205  nick1135, nick1135, marcusoh, scott57469017, c...\n",
       "996   590982  jonathan7845, micah4814, ilia4401, angie6388, ...\n",
       "997   369988  jeroen6107, sibylla8116, nicholas6826, jim5285...\n",
       "998   567092  miikka2096, haleyconner, stephanie8503, obay16...\n",
       "999   495013  barb1192, yannis8960, david7906, rick7824, wen...\n",
       "\n",
       "[1000 rows x 2 columns]"
      ]
     },
     "execution_count": 8,
     "metadata": {},
     "output_type": "execute_result"
    }
   ],
   "source": [
    "loans_lenders"
   ]
  },
  {
   "cell_type": "code",
   "execution_count": 69,
   "metadata": {},
   "outputs": [],
   "source": [
    "loans_lenders[\"lenders\"] = loans_lenders.lenders.apply(lambda x: x.split(\",\"))"
   ]
  },
  {
   "cell_type": "code",
   "execution_count": 70,
   "metadata": {},
   "outputs": [],
   "source": [
    "loans_lenders = loans_lenders.explode(\"lenders\").reset_index(drop = True)"
   ]
  },
  {
   "cell_type": "code",
   "execution_count": 71,
   "metadata": {},
   "outputs": [
    {
     "data": {
      "text/html": [
       "<div>\n",
       "<style scoped>\n",
       "    .dataframe tbody tr th:only-of-type {\n",
       "        vertical-align: middle;\n",
       "    }\n",
       "\n",
       "    .dataframe tbody tr th {\n",
       "        vertical-align: top;\n",
       "    }\n",
       "\n",
       "    .dataframe thead th {\n",
       "        text-align: right;\n",
       "    }\n",
       "</style>\n",
       "<table border=\"1\" class=\"dataframe\">\n",
       "  <thead>\n",
       "    <tr style=\"text-align: right;\">\n",
       "      <th></th>\n",
       "      <th>loan_id</th>\n",
       "      <th>lenders</th>\n",
       "    </tr>\n",
       "  </thead>\n",
       "  <tbody>\n",
       "    <tr>\n",
       "      <th>0</th>\n",
       "      <td>483693</td>\n",
       "      <td>muc888</td>\n",
       "    </tr>\n",
       "    <tr>\n",
       "      <th>1</th>\n",
       "      <td>483693</td>\n",
       "      <td>sam4326</td>\n",
       "    </tr>\n",
       "    <tr>\n",
       "      <th>2</th>\n",
       "      <td>483693</td>\n",
       "      <td>camaran3922</td>\n",
       "    </tr>\n",
       "    <tr>\n",
       "      <th>3</th>\n",
       "      <td>483693</td>\n",
       "      <td>lachheb1865</td>\n",
       "    </tr>\n",
       "    <tr>\n",
       "      <th>4</th>\n",
       "      <td>483693</td>\n",
       "      <td>rebecca3499</td>\n",
       "    </tr>\n",
       "    <tr>\n",
       "      <th>...</th>\n",
       "      <td>...</td>\n",
       "      <td>...</td>\n",
       "    </tr>\n",
       "    <tr>\n",
       "      <th>31296</th>\n",
       "      <td>495013</td>\n",
       "      <td>joe5749</td>\n",
       "    </tr>\n",
       "    <tr>\n",
       "      <th>31297</th>\n",
       "      <td>495013</td>\n",
       "      <td>john9034</td>\n",
       "    </tr>\n",
       "    <tr>\n",
       "      <th>31298</th>\n",
       "      <td>495013</td>\n",
       "      <td>byron5129</td>\n",
       "    </tr>\n",
       "    <tr>\n",
       "      <th>31299</th>\n",
       "      <td>495013</td>\n",
       "      <td>staceyandgirls6384</td>\n",
       "    </tr>\n",
       "    <tr>\n",
       "      <th>31300</th>\n",
       "      <td>495013</td>\n",
       "      <td>andy9312</td>\n",
       "    </tr>\n",
       "  </tbody>\n",
       "</table>\n",
       "<p>31301 rows × 2 columns</p>\n",
       "</div>"
      ],
      "text/plain": [
       "       loan_id              lenders\n",
       "0       483693               muc888\n",
       "1       483693              sam4326\n",
       "2       483693          camaran3922\n",
       "3       483693          lachheb1865\n",
       "4       483693          rebecca3499\n",
       "...        ...                  ...\n",
       "31296   495013              joe5749\n",
       "31297   495013             john9034\n",
       "31298   495013            byron5129\n",
       "31299   495013   staceyandgirls6384\n",
       "31300   495013             andy9312\n",
       "\n",
       "[31301 rows x 2 columns]"
      ]
     },
     "execution_count": 71,
     "metadata": {},
     "output_type": "execute_result"
    }
   ],
   "source": [
    "loans_lenders"
   ]
  },
  {
   "cell_type": "markdown",
   "metadata": {},
   "source": [
    "#### 2. For each loan, add a column *duration* corresponding to the number of days between the *disburse time* and the *planned expiration time*. If any of those two dates is missing, also the *duration* must be missing."
   ]
  },
  {
   "cell_type": "code",
   "execution_count": 3,
   "metadata": {},
   "outputs": [],
   "source": [
    "loans = pd.read_csv(\"loans.csv\", nrows = 1000)"
   ]
  },
  {
   "cell_type": "code",
   "execution_count": 83,
   "metadata": {},
   "outputs": [],
   "source": [
    "loans[\"disburse_time\"] = pd.to_datetime(loans[\"disburse_time\"])\n",
    "loans[\"planned_expiration_time\"] = pd.to_datetime(loans[\"planned_expiration_time\"])"
   ]
  },
  {
   "cell_type": "code",
   "execution_count": 88,
   "metadata": {},
   "outputs": [],
   "source": [
    "loans[\"duration\"] = (loans[\"planned_expiration_time\"] - loans[\"disburse_time\"]).dt.days"
   ]
  },
  {
   "cell_type": "markdown",
   "metadata": {},
   "source": [
    "#### 3. Find the lenders that have funded at least twice."
   ]
  },
  {
   "cell_type": "code",
   "execution_count": 4,
   "metadata": {},
   "outputs": [],
   "source": [
    "lenders = pd.read_csv(\"lenders.csv\", nrows = 1000)"
   ]
  },
  {
   "cell_type": "code",
   "execution_count": 103,
   "metadata": {},
   "outputs": [
    {
     "data": {
      "text/html": [
       "<div>\n",
       "<style scoped>\n",
       "    .dataframe tbody tr th:only-of-type {\n",
       "        vertical-align: middle;\n",
       "    }\n",
       "\n",
       "    .dataframe tbody tr th {\n",
       "        vertical-align: top;\n",
       "    }\n",
       "\n",
       "    .dataframe thead th {\n",
       "        text-align: right;\n",
       "    }\n",
       "</style>\n",
       "<table border=\"1\" class=\"dataframe\">\n",
       "  <thead>\n",
       "    <tr style=\"text-align: right;\">\n",
       "      <th></th>\n",
       "      <th>member_since</th>\n",
       "      <th>loan_purchase_num</th>\n",
       "      <th>num_invited</th>\n",
       "    </tr>\n",
       "  </thead>\n",
       "  <tbody>\n",
       "    <tr>\n",
       "      <th>count</th>\n",
       "      <td>1.000000e+03</td>\n",
       "      <td>909.000000</td>\n",
       "      <td>1000.000000</td>\n",
       "    </tr>\n",
       "    <tr>\n",
       "      <th>mean</th>\n",
       "      <td>1.461311e+09</td>\n",
       "      <td>2.133113</td>\n",
       "      <td>0.018000</td>\n",
       "    </tr>\n",
       "    <tr>\n",
       "      <th>std</th>\n",
       "      <td>8.115486e+03</td>\n",
       "      <td>1.743109</td>\n",
       "      <td>0.147301</td>\n",
       "    </tr>\n",
       "    <tr>\n",
       "      <th>min</th>\n",
       "      <td>1.461300e+09</td>\n",
       "      <td>0.000000</td>\n",
       "      <td>0.000000</td>\n",
       "    </tr>\n",
       "    <tr>\n",
       "      <th>25%</th>\n",
       "      <td>1.461306e+09</td>\n",
       "      <td>1.000000</td>\n",
       "      <td>0.000000</td>\n",
       "    </tr>\n",
       "    <tr>\n",
       "      <th>50%</th>\n",
       "      <td>1.461310e+09</td>\n",
       "      <td>2.000000</td>\n",
       "      <td>0.000000</td>\n",
       "    </tr>\n",
       "    <tr>\n",
       "      <th>75%</th>\n",
       "      <td>1.461315e+09</td>\n",
       "      <td>3.000000</td>\n",
       "      <td>0.000000</td>\n",
       "    </tr>\n",
       "    <tr>\n",
       "      <th>max</th>\n",
       "      <td>1.461346e+09</td>\n",
       "      <td>23.000000</td>\n",
       "      <td>2.000000</td>\n",
       "    </tr>\n",
       "  </tbody>\n",
       "</table>\n",
       "</div>"
      ],
      "text/plain": [
       "       member_since  loan_purchase_num  num_invited\n",
       "count  1.000000e+03         909.000000  1000.000000\n",
       "mean   1.461311e+09           2.133113     0.018000\n",
       "std    8.115486e+03           1.743109     0.147301\n",
       "min    1.461300e+09           0.000000     0.000000\n",
       "25%    1.461306e+09           1.000000     0.000000\n",
       "50%    1.461310e+09           2.000000     0.000000\n",
       "75%    1.461315e+09           3.000000     0.000000\n",
       "max    1.461346e+09          23.000000     2.000000"
      ]
     },
     "execution_count": 103,
     "metadata": {},
     "output_type": "execute_result"
    }
   ],
   "source": [
    "lenders.describe()"
   ]
  },
  {
   "cell_type": "code",
   "execution_count": 105,
   "metadata": {},
   "outputs": [
    {
     "data": {
      "text/html": [
       "<div>\n",
       "<style scoped>\n",
       "    .dataframe tbody tr th:only-of-type {\n",
       "        vertical-align: middle;\n",
       "    }\n",
       "\n",
       "    .dataframe tbody tr th {\n",
       "        vertical-align: top;\n",
       "    }\n",
       "\n",
       "    .dataframe thead th {\n",
       "        text-align: right;\n",
       "    }\n",
       "</style>\n",
       "<table border=\"1\" class=\"dataframe\">\n",
       "  <thead>\n",
       "    <tr style=\"text-align: right;\">\n",
       "      <th></th>\n",
       "      <th>permanent_name</th>\n",
       "      <th>display_name</th>\n",
       "      <th>city</th>\n",
       "      <th>state</th>\n",
       "      <th>country_code</th>\n",
       "      <th>member_since</th>\n",
       "      <th>occupation</th>\n",
       "      <th>loan_because</th>\n",
       "      <th>loan_purchase_num</th>\n",
       "      <th>invited_by</th>\n",
       "      <th>num_invited</th>\n",
       "    </tr>\n",
       "  </thead>\n",
       "  <tbody>\n",
       "    <tr>\n",
       "      <th>1</th>\n",
       "      <td>reena6733</td>\n",
       "      <td>Reena</td>\n",
       "      <td>NaN</td>\n",
       "      <td>NaN</td>\n",
       "      <td>NaN</td>\n",
       "      <td>1461300634</td>\n",
       "      <td>NaN</td>\n",
       "      <td>NaN</td>\n",
       "      <td>9.0</td>\n",
       "      <td>NaN</td>\n",
       "      <td>0</td>\n",
       "    </tr>\n",
       "    <tr>\n",
       "      <th>3</th>\n",
       "      <td>andrew86079135</td>\n",
       "      <td>Andrew</td>\n",
       "      <td>NaN</td>\n",
       "      <td>NaN</td>\n",
       "      <td>NaN</td>\n",
       "      <td>1461301091</td>\n",
       "      <td>NaN</td>\n",
       "      <td>NaN</td>\n",
       "      <td>5.0</td>\n",
       "      <td>Peter Tan</td>\n",
       "      <td>0</td>\n",
       "    </tr>\n",
       "    <tr>\n",
       "      <th>6</th>\n",
       "      <td>rene7585</td>\n",
       "      <td>Rene</td>\n",
       "      <td>NaN</td>\n",
       "      <td>NaN</td>\n",
       "      <td>NaN</td>\n",
       "      <td>1461301636</td>\n",
       "      <td>NaN</td>\n",
       "      <td>NaN</td>\n",
       "      <td>2.0</td>\n",
       "      <td>NaN</td>\n",
       "      <td>0</td>\n",
       "    </tr>\n",
       "    <tr>\n",
       "      <th>7</th>\n",
       "      <td>harald2826</td>\n",
       "      <td>Harald</td>\n",
       "      <td>NaN</td>\n",
       "      <td>NaN</td>\n",
       "      <td>NaN</td>\n",
       "      <td>1461301670</td>\n",
       "      <td>NaN</td>\n",
       "      <td>NaN</td>\n",
       "      <td>2.0</td>\n",
       "      <td>NaN</td>\n",
       "      <td>0</td>\n",
       "    </tr>\n",
       "    <tr>\n",
       "      <th>11</th>\n",
       "      <td>jennifer4328</td>\n",
       "      <td>Jennifer</td>\n",
       "      <td>NaN</td>\n",
       "      <td>NaN</td>\n",
       "      <td>NaN</td>\n",
       "      <td>1461302712</td>\n",
       "      <td>NaN</td>\n",
       "      <td>NaN</td>\n",
       "      <td>3.0</td>\n",
       "      <td>NaN</td>\n",
       "      <td>0</td>\n",
       "    </tr>\n",
       "    <tr>\n",
       "      <th>...</th>\n",
       "      <td>...</td>\n",
       "      <td>...</td>\n",
       "      <td>...</td>\n",
       "      <td>...</td>\n",
       "      <td>...</td>\n",
       "      <td>...</td>\n",
       "      <td>...</td>\n",
       "      <td>...</td>\n",
       "      <td>...</td>\n",
       "      <td>...</td>\n",
       "      <td>...</td>\n",
       "    </tr>\n",
       "    <tr>\n",
       "      <th>990</th>\n",
       "      <td>luzelena5259</td>\n",
       "      <td>Luz Elena</td>\n",
       "      <td>NaN</td>\n",
       "      <td>NaN</td>\n",
       "      <td>NaN</td>\n",
       "      <td>1461342164</td>\n",
       "      <td>NaN</td>\n",
       "      <td>NaN</td>\n",
       "      <td>4.0</td>\n",
       "      <td>NaN</td>\n",
       "      <td>0</td>\n",
       "    </tr>\n",
       "    <tr>\n",
       "      <th>995</th>\n",
       "      <td>rosa8774</td>\n",
       "      <td>Rosa</td>\n",
       "      <td>NaN</td>\n",
       "      <td>NaN</td>\n",
       "      <td>NaN</td>\n",
       "      <td>1461345496</td>\n",
       "      <td>NaN</td>\n",
       "      <td>NaN</td>\n",
       "      <td>5.0</td>\n",
       "      <td>NaN</td>\n",
       "      <td>0</td>\n",
       "    </tr>\n",
       "    <tr>\n",
       "      <th>997</th>\n",
       "      <td>sridevi7185</td>\n",
       "      <td>SRIDEVI</td>\n",
       "      <td>NaN</td>\n",
       "      <td>NaN</td>\n",
       "      <td>NaN</td>\n",
       "      <td>1461345622</td>\n",
       "      <td>NaN</td>\n",
       "      <td>NaN</td>\n",
       "      <td>2.0</td>\n",
       "      <td>NaN</td>\n",
       "      <td>0</td>\n",
       "    </tr>\n",
       "    <tr>\n",
       "      <th>998</th>\n",
       "      <td>anshu8563</td>\n",
       "      <td>Anshu</td>\n",
       "      <td>NaN</td>\n",
       "      <td>NaN</td>\n",
       "      <td>US</td>\n",
       "      <td>1461345777</td>\n",
       "      <td>NaN</td>\n",
       "      <td>NaN</td>\n",
       "      <td>2.0</td>\n",
       "      <td>NaN</td>\n",
       "      <td>0</td>\n",
       "    </tr>\n",
       "    <tr>\n",
       "      <th>999</th>\n",
       "      <td>julie36964436</td>\n",
       "      <td>Julie</td>\n",
       "      <td>NaN</td>\n",
       "      <td>NaN</td>\n",
       "      <td>NaN</td>\n",
       "      <td>1461345990</td>\n",
       "      <td>NaN</td>\n",
       "      <td>NaN</td>\n",
       "      <td>2.0</td>\n",
       "      <td>NaN</td>\n",
       "      <td>0</td>\n",
       "    </tr>\n",
       "  </tbody>\n",
       "</table>\n",
       "<p>490 rows × 11 columns</p>\n",
       "</div>"
      ],
      "text/plain": [
       "     permanent_name display_name city state country_code  member_since  \\\n",
       "1         reena6733        Reena  NaN   NaN          NaN    1461300634   \n",
       "3    andrew86079135       Andrew  NaN   NaN          NaN    1461301091   \n",
       "6          rene7585         Rene  NaN   NaN          NaN    1461301636   \n",
       "7        harald2826       Harald  NaN   NaN          NaN    1461301670   \n",
       "11     jennifer4328     Jennifer  NaN   NaN          NaN    1461302712   \n",
       "..              ...          ...  ...   ...          ...           ...   \n",
       "990    luzelena5259    Luz Elena  NaN   NaN          NaN    1461342164   \n",
       "995        rosa8774         Rosa  NaN   NaN          NaN    1461345496   \n",
       "997     sridevi7185      SRIDEVI  NaN   NaN          NaN    1461345622   \n",
       "998       anshu8563        Anshu  NaN   NaN           US    1461345777   \n",
       "999   julie36964436        Julie  NaN   NaN          NaN    1461345990   \n",
       "\n",
       "    occupation loan_because  loan_purchase_num invited_by  num_invited  \n",
       "1          NaN          NaN                9.0        NaN            0  \n",
       "3          NaN          NaN                5.0  Peter Tan            0  \n",
       "6          NaN          NaN                2.0        NaN            0  \n",
       "7          NaN          NaN                2.0        NaN            0  \n",
       "11         NaN          NaN                3.0        NaN            0  \n",
       "..         ...          ...                ...        ...          ...  \n",
       "990        NaN          NaN                4.0        NaN            0  \n",
       "995        NaN          NaN                5.0        NaN            0  \n",
       "997        NaN          NaN                2.0        NaN            0  \n",
       "998        NaN          NaN                2.0        NaN            0  \n",
       "999        NaN          NaN                2.0        NaN            0  \n",
       "\n",
       "[490 rows x 11 columns]"
      ]
     },
     "execution_count": 105,
     "metadata": {},
     "output_type": "execute_result"
    }
   ],
   "source": [
    "lenders.loc[lenders[\"loan_purchase_num\"] >= 2]"
   ]
  },
  {
   "cell_type": "markdown",
   "metadata": {},
   "source": [
    "#### 4. For each country, compute how many loans have involved that country as borrowers."
   ]
  },
  {
   "cell_type": "code",
   "execution_count": 119,
   "metadata": {},
   "outputs": [
    {
     "data": {
      "text/plain": [
       "country_name\n",
       "Afghanistan       1\n",
       "Albania           4\n",
       "Armenia          12\n",
       "Azerbaijan        4\n",
       "Benin             5\n",
       "                 ..\n",
       "Ukraine           1\n",
       "United States     6\n",
       "Vietnam           9\n",
       "Yemen             2\n",
       "Zimbabwe          2\n",
       "Name: loan_id, Length: 65, dtype: int64"
      ]
     },
     "execution_count": 119,
     "metadata": {},
     "output_type": "execute_result"
    }
   ],
   "source": [
    "loans.groupby(\"country_name\").count()[\"loan_id\"]"
   ]
  },
  {
   "cell_type": "markdown",
   "metadata": {},
   "source": [
    "#### 5. For each country, compute the overall amount of money borrowed."
   ]
  },
  {
   "cell_type": "code",
   "execution_count": 121,
   "metadata": {},
   "outputs": [
    {
     "data": {
      "text/plain": [
       "country_name\n",
       "Afghanistan       1175.0\n",
       "Albania           5550.0\n",
       "Armenia          19225.0\n",
       "Azerbaijan       10400.0\n",
       "Benin             3950.0\n",
       "                  ...   \n",
       "Ukraine           1200.0\n",
       "United States    29250.0\n",
       "Vietnam          17650.0\n",
       "Yemen             3250.0\n",
       "Zimbabwe          2300.0\n",
       "Name: loan_amount, Length: 65, dtype: float64"
      ]
     },
     "execution_count": 121,
     "metadata": {},
     "output_type": "execute_result"
    }
   ],
   "source": [
    "loans.groupby(\"country_name\")[\"loan_amount\"].sum()"
   ]
  },
  {
   "cell_type": "markdown",
   "metadata": {},
   "source": [
    "#### 6. Like the previous point, but expressed as a percentage of the overall amount lent."
   ]
  },
  {
   "cell_type": "code",
   "execution_count": 122,
   "metadata": {},
   "outputs": [
    {
     "data": {
      "text/plain": [
       "857975.0"
      ]
     },
     "execution_count": 122,
     "metadata": {},
     "output_type": "execute_result"
    }
   ],
   "source": [
    "tot_loan_amount = loans[\"loan_amount\"].sum()\n",
    "tot_loan_amount"
   ]
  },
  {
   "cell_type": "code",
   "execution_count": 124,
   "metadata": {},
   "outputs": [
    {
     "data": {
      "text/plain": [
       "country_name\n",
       "Afghanistan      0.136950\n",
       "Albania          0.646872\n",
       "Armenia          2.240741\n",
       "Azerbaijan       1.212157\n",
       "Benin            0.460386\n",
       "                   ...   \n",
       "Ukraine          0.139864\n",
       "United States    3.409190\n",
       "Vietnam          2.057169\n",
       "Yemen            0.378799\n",
       "Zimbabwe         0.268073\n",
       "Name: loan_amount, Length: 65, dtype: float64"
      ]
     },
     "execution_count": 124,
     "metadata": {},
     "output_type": "execute_result"
    }
   ],
   "source": [
    "loans.groupby(\"country_name\")[\"loan_amount\"].sum() / tot_loan_amount * 100"
   ]
  },
  {
   "cell_type": "markdown",
   "metadata": {},
   "source": [
    "#### 7. Like the three previous points, but split for each year (with respect to *disburse time*)."
   ]
  },
  {
   "cell_type": "code",
   "execution_count": 126,
   "metadata": {},
   "outputs": [],
   "source": [
    "loans[\"year\"] = loans[\"disburse_time\"].dt.year"
   ]
  },
  {
   "cell_type": "code",
   "execution_count": 149,
   "metadata": {},
   "outputs": [],
   "source": [
    "loan_country = pd.DataFrame(loans.groupby([\"year\",\"country_name\"])[\"loan_amount\"].sum())"
   ]
  },
  {
   "cell_type": "code",
   "execution_count": 135,
   "metadata": {},
   "outputs": [],
   "source": [
    "amount_per_year = pd.DataFrame(loans.groupby(\"year\")[\"loan_amount\"].sum())"
   ]
  },
  {
   "cell_type": "code",
   "execution_count": 145,
   "metadata": {},
   "outputs": [],
   "source": [
    "res = pd.merge(loan_country, amount_per_year, on = \"year\", suffixes = (\"\", \"_tot_year\")).reset_index()"
   ]
  },
  {
   "cell_type": "code",
   "execution_count": 147,
   "metadata": {},
   "outputs": [],
   "source": [
    "res[\"perc_per_year\"] = res[\"loan_amount\"]/res[\"loan_amount_tot_year\"] * 100"
   ]
  },
  {
   "cell_type": "code",
   "execution_count": 148,
   "metadata": {
    "scrolled": true
   },
   "outputs": [
    {
     "data": {
      "text/html": [
       "<div>\n",
       "<style scoped>\n",
       "    .dataframe tbody tr th:only-of-type {\n",
       "        vertical-align: middle;\n",
       "    }\n",
       "\n",
       "    .dataframe tbody tr th {\n",
       "        vertical-align: top;\n",
       "    }\n",
       "\n",
       "    .dataframe thead th {\n",
       "        text-align: right;\n",
       "    }\n",
       "</style>\n",
       "<table border=\"1\" class=\"dataframe\">\n",
       "  <thead>\n",
       "    <tr style=\"text-align: right;\">\n",
       "      <th></th>\n",
       "      <th>year</th>\n",
       "      <th>loan_amount</th>\n",
       "      <th>loan_amount_tot_year</th>\n",
       "      <th>perc_per_year</th>\n",
       "    </tr>\n",
       "  </thead>\n",
       "  <tbody>\n",
       "    <tr>\n",
       "      <th>0</th>\n",
       "      <td>2010</td>\n",
       "      <td>1175.0</td>\n",
       "      <td>41550.0</td>\n",
       "      <td>2.827918</td>\n",
       "    </tr>\n",
       "    <tr>\n",
       "      <th>1</th>\n",
       "      <td>2010</td>\n",
       "      <td>525.0</td>\n",
       "      <td>41550.0</td>\n",
       "      <td>1.263538</td>\n",
       "    </tr>\n",
       "    <tr>\n",
       "      <th>2</th>\n",
       "      <td>2010</td>\n",
       "      <td>3750.0</td>\n",
       "      <td>41550.0</td>\n",
       "      <td>9.025271</td>\n",
       "    </tr>\n",
       "    <tr>\n",
       "      <th>3</th>\n",
       "      <td>2010</td>\n",
       "      <td>4200.0</td>\n",
       "      <td>41550.0</td>\n",
       "      <td>10.108303</td>\n",
       "    </tr>\n",
       "    <tr>\n",
       "      <th>4</th>\n",
       "      <td>2010</td>\n",
       "      <td>1225.0</td>\n",
       "      <td>41550.0</td>\n",
       "      <td>2.948255</td>\n",
       "    </tr>\n",
       "    <tr>\n",
       "      <th>...</th>\n",
       "      <td>...</td>\n",
       "      <td>...</td>\n",
       "      <td>...</td>\n",
       "      <td>...</td>\n",
       "    </tr>\n",
       "    <tr>\n",
       "      <th>211</th>\n",
       "      <td>2017</td>\n",
       "      <td>800.0</td>\n",
       "      <td>21025.0</td>\n",
       "      <td>3.804994</td>\n",
       "    </tr>\n",
       "    <tr>\n",
       "      <th>212</th>\n",
       "      <td>2017</td>\n",
       "      <td>900.0</td>\n",
       "      <td>21025.0</td>\n",
       "      <td>4.280618</td>\n",
       "    </tr>\n",
       "    <tr>\n",
       "      <th>213</th>\n",
       "      <td>2017</td>\n",
       "      <td>1025.0</td>\n",
       "      <td>21025.0</td>\n",
       "      <td>4.875149</td>\n",
       "    </tr>\n",
       "    <tr>\n",
       "      <th>214</th>\n",
       "      <td>2017</td>\n",
       "      <td>4900.0</td>\n",
       "      <td>21025.0</td>\n",
       "      <td>23.305589</td>\n",
       "    </tr>\n",
       "    <tr>\n",
       "      <th>215</th>\n",
       "      <td>2017</td>\n",
       "      <td>1450.0</td>\n",
       "      <td>21025.0</td>\n",
       "      <td>6.896552</td>\n",
       "    </tr>\n",
       "  </tbody>\n",
       "</table>\n",
       "<p>216 rows × 4 columns</p>\n",
       "</div>"
      ],
      "text/plain": [
       "     year  loan_amount  loan_amount_tot_year  perc_per_year\n",
       "0    2010       1175.0               41550.0       2.827918\n",
       "1    2010        525.0               41550.0       1.263538\n",
       "2    2010       3750.0               41550.0       9.025271\n",
       "3    2010       4200.0               41550.0      10.108303\n",
       "4    2010       1225.0               41550.0       2.948255\n",
       "..    ...          ...                   ...            ...\n",
       "211  2017        800.0               21025.0       3.804994\n",
       "212  2017        900.0               21025.0       4.280618\n",
       "213  2017       1025.0               21025.0       4.875149\n",
       "214  2017       4900.0               21025.0      23.305589\n",
       "215  2017       1450.0               21025.0       6.896552\n",
       "\n",
       "[216 rows x 4 columns]"
      ]
     },
     "execution_count": 148,
     "metadata": {},
     "output_type": "execute_result"
    }
   ],
   "source": [
    "res"
   ]
  },
  {
   "cell_type": "markdown",
   "metadata": {},
   "source": [
    "#### 8. For each lender, compute the overall amount of money lent. For each loan that has more than one lender, you must assume that all lenders contributed the same amount."
   ]
  },
  {
   "cell_type": "code",
   "execution_count": 159,
   "metadata": {},
   "outputs": [
    {
     "data": {
      "text/plain": [
       "lenders\n",
       " WeWishWeWereInMaui    4625.0\n",
       " abi3261               1000.0\n",
       " abigail6217           4625.0\n",
       " adam6350              4625.0\n",
       " adam8512              4625.0\n",
       "                        ...  \n",
       " zoe13765053            575.0\n",
       "ba3127                 4625.0\n",
       "catherine1576           650.0\n",
       "edwin9421               575.0\n",
       "kennethheal            1000.0\n",
       "Name: loan_amount, Length: 205, dtype: float64"
      ]
     },
     "execution_count": 159,
     "metadata": {},
     "output_type": "execute_result"
    }
   ],
   "source": [
    "pd.merge(loans, loans_lenders, on = \"loan_id\").groupby(\"lenders\")[\"loan_amount\"].sum()"
   ]
  },
  {
   "cell_type": "markdown",
   "metadata": {},
   "source": [
    "#### 9. For each country, compute the difference between the overall amount of money lent and the overall amount of money borrowed. Since the country of the lender is often unknown, you can assume that the true distribution among the countries is the same as the one computed from the rows where the country is known."
   ]
  },
  {
   "cell_type": "markdown",
   "metadata": {},
   "source": [
    "Per prima cosa ottengo la distribuzione dei paesi presenti all'interno del dataset lenders."
   ]
  },
  {
   "cell_type": "code",
   "execution_count": 53,
   "metadata": {},
   "outputs": [],
   "source": [
    "# Conto le presenze di ogni paese\n",
    "d1 = pd.DataFrame(lenders.groupby(\"country_code\")[\"country_code\"].count())"
   ]
  },
  {
   "cell_type": "code",
   "execution_count": 54,
   "metadata": {},
   "outputs": [],
   "source": [
    "d2 = d1.rename(columns = {\"country_code\": \"num\"}).reset_index()"
   ]
  },
  {
   "cell_type": "code",
   "execution_count": 55,
   "metadata": {},
   "outputs": [],
   "source": [
    "# Calcolo la percentuale di presenza di ogni paese\n",
    "prob = d2[\"num\"] / d2[\"num\"].sum()"
   ]
  },
  {
   "cell_type": "code",
   "execution_count": 49,
   "metadata": {},
   "outputs": [],
   "source": [
    "import numpy as np"
   ]
  },
  {
   "cell_type": "code",
   "execution_count": 58,
   "metadata": {},
   "outputs": [],
   "source": [
    "# Sostituisco i valori mancanti con valori distribuiti secondo le proporzioni di probabilità ottenute alla riga precedente\n",
    "lenders[\"country_code\"].fillna(pd.Series(np.random.choice(d2[\"country_code\"], \n",
    "                                                      p=prob, size=len(lenders))), inplace = True)"
   ]
  },
  {
   "cell_type": "code",
   "execution_count": 62,
   "metadata": {},
   "outputs": [
    {
     "data": {
      "text/plain": [
       "0      IT\n",
       "1      US\n",
       "2      GB\n",
       "3      PL\n",
       "4      US\n",
       "       ..\n",
       "995    GB\n",
       "996    US\n",
       "997    US\n",
       "998    US\n",
       "999    AT\n",
       "Name: country_code, Length: 1000, dtype: object"
      ]
     },
     "execution_count": 62,
     "metadata": {},
     "output_type": "execute_result"
    }
   ],
   "source": [
    "lenders[\"country_code\"]"
   ]
  },
  {
   "cell_type": "markdown",
   "metadata": {},
   "source": [
    "Adesso calcolo il totale di soldi prestati"
   ]
  },
  {
   "cell_type": "code",
   "execution_count": 87,
   "metadata": {},
   "outputs": [],
   "source": [
    "df1 = pd.merge(loans_lenders, loans, on = \"loan_id\")"
   ]
  },
  {
   "cell_type": "code",
   "execution_count": 88,
   "metadata": {},
   "outputs": [],
   "source": [
    "df2 = pd.merge(df1, lenders, left_on = \"lenders\", right_on = \"permanent_name\")"
   ]
  },
  {
   "cell_type": "code",
   "execution_count": 89,
   "metadata": {},
   "outputs": [
    {
     "data": {
      "text/html": [
       "<div>\n",
       "<style scoped>\n",
       "    .dataframe tbody tr th:only-of-type {\n",
       "        vertical-align: middle;\n",
       "    }\n",
       "\n",
       "    .dataframe tbody tr th {\n",
       "        vertical-align: top;\n",
       "    }\n",
       "\n",
       "    .dataframe thead th {\n",
       "        text-align: right;\n",
       "    }\n",
       "</style>\n",
       "<table border=\"1\" class=\"dataframe\">\n",
       "  <thead>\n",
       "    <tr style=\"text-align: right;\">\n",
       "      <th></th>\n",
       "      <th>loan_id</th>\n",
       "      <th>lenders</th>\n",
       "      <th>loan_name</th>\n",
       "      <th>original_language</th>\n",
       "      <th>description</th>\n",
       "      <th>description_translated</th>\n",
       "      <th>funded_amount</th>\n",
       "      <th>loan_amount</th>\n",
       "      <th>status</th>\n",
       "      <th>activity_name</th>\n",
       "      <th>...</th>\n",
       "      <th>display_name</th>\n",
       "      <th>city</th>\n",
       "      <th>state</th>\n",
       "      <th>country_code_y</th>\n",
       "      <th>member_since</th>\n",
       "      <th>occupation</th>\n",
       "      <th>loan_because</th>\n",
       "      <th>loan_purchase_num</th>\n",
       "      <th>invited_by</th>\n",
       "      <th>num_invited</th>\n",
       "    </tr>\n",
       "  </thead>\n",
       "  <tbody>\n",
       "  </tbody>\n",
       "</table>\n",
       "<p>0 rows × 43 columns</p>\n",
       "</div>"
      ],
      "text/plain": [
       "Empty DataFrame\n",
       "Columns: [loan_id, lenders, loan_name, original_language, description, description_translated, funded_amount, loan_amount, status, activity_name, sector_name, loan_use, country_code_x, country_name, town_name, currency_policy, currency_exchange_coverage_rate, currency, partner_id, posted_time, planned_expiration_time, disburse_time, raised_time, lender_term, num_lenders_total, num_journal_entries, num_bulk_entries, tags, borrower_genders, borrower_pictured, repayment_interval, distribution_model, permanent_name, display_name, city, state, country_code_y, member_since, occupation, loan_because, loan_purchase_num, invited_by, num_invited]\n",
       "Index: []\n",
       "\n",
       "[0 rows x 43 columns]"
      ]
     },
     "execution_count": 89,
     "metadata": {},
     "output_type": "execute_result"
    }
   ],
   "source": [
    "df2"
   ]
  },
  {
   "cell_type": "markdown",
   "metadata": {},
   "source": [
    "Which country has the highest ratio between the difference computed at the previous point and the population?\n",
    "Which country has the highest ratio between the difference computed at point 9 and the population that is not below the poverty line?\n",
    "For each year, compute the total amount of loans. Each loan that has planned expiration time and disburse time in different years must have its amount distributed proportionally to the number of days in each year. For example, a loan with disburse time December 1st, 2016, planned expiration time January 30th 2018, and amount 5000USD has an amount of 5000USD * 31 / (31+365+30) = 363.85 for 2016, 5000USD * 365 / (31+365+30) = 4284.04 for 2017, and 5000USD * 30 / (31+365+30) = 352.11 for 2018."
   ]
  }
 ],
 "metadata": {
  "kernelspec": {
   "display_name": "Python 3",
   "language": "python",
   "name": "python3"
  },
  "language_info": {
   "codemirror_mode": {
    "name": "ipython",
    "version": 3
   },
   "file_extension": ".py",
   "mimetype": "text/x-python",
   "name": "python",
   "nbconvert_exporter": "python",
   "pygments_lexer": "ipython3",
   "version": "3.7.7"
  }
 },
 "nbformat": 4,
 "nbformat_minor": 4
}
