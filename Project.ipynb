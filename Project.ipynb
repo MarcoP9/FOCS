{
 "cells": [
  {
   "cell_type": "markdown",
   "metadata": {},
   "source": [
    "# Computer Science Project"
   ]
  },
  {
   "cell_type": "code",
   "execution_count": 2,
   "metadata": {},
   "outputs": [],
   "source": [
    "import pandas as pd\n",
    "import numpy as np"
   ]
  },
  {
   "cell_type": "markdown",
   "metadata": {},
   "source": [
    "#### 1. Normalize the *loan_lenders* table. In the normalized table, each row must have one *loan_id* and one *lender*."
   ]
  },
  {
   "cell_type": "code",
   "execution_count": 3,
   "metadata": {},
   "outputs": [],
   "source": [
    "loans_lenders = pd.read_csv(\"Datasets/loans_lenders.csv\")"
   ]
  },
  {
   "cell_type": "markdown",
   "metadata": {},
   "source": [
    "Normalizzare la tabella significa che ogni cella deve contenere una sola informazione. In questo caso la colonna *lender* possiede diversi nomi, quindi è necessario duplicare il valore di *loan_id* tante volte quante sono i lender."
   ]
  },
  {
   "cell_type": "code",
   "execution_count": 4,
   "metadata": {},
   "outputs": [
    {
     "data": {
      "text/html": [
       "<div>\n",
       "<style scoped>\n",
       "    .dataframe tbody tr th:only-of-type {\n",
       "        vertical-align: middle;\n",
       "    }\n",
       "\n",
       "    .dataframe tbody tr th {\n",
       "        vertical-align: top;\n",
       "    }\n",
       "\n",
       "    .dataframe thead th {\n",
       "        text-align: right;\n",
       "    }\n",
       "</style>\n",
       "<table border=\"1\" class=\"dataframe\">\n",
       "  <thead>\n",
       "    <tr style=\"text-align: right;\">\n",
       "      <th></th>\n",
       "      <th>loan_id</th>\n",
       "      <th>lenders</th>\n",
       "    </tr>\n",
       "  </thead>\n",
       "  <tbody>\n",
       "    <tr>\n",
       "      <th>0</th>\n",
       "      <td>483693</td>\n",
       "      <td>muc888, sam4326, camaran3922, lachheb1865, reb...</td>\n",
       "    </tr>\n",
       "    <tr>\n",
       "      <th>1</th>\n",
       "      <td>483738</td>\n",
       "      <td>muc888, nora3555, williammanashi, barbara5610,...</td>\n",
       "    </tr>\n",
       "    <tr>\n",
       "      <th>2</th>\n",
       "      <td>485000</td>\n",
       "      <td>muc888, terrystl, richardandsusan8352, sherri4...</td>\n",
       "    </tr>\n",
       "    <tr>\n",
       "      <th>3</th>\n",
       "      <td>486087</td>\n",
       "      <td>muc888, james5068, rudi5955, daniel9859, don92...</td>\n",
       "    </tr>\n",
       "    <tr>\n",
       "      <th>4</th>\n",
       "      <td>534428</td>\n",
       "      <td>muc888, niki3008, teresa9174, mike4896, david7...</td>\n",
       "    </tr>\n",
       "    <tr>\n",
       "      <th>...</th>\n",
       "      <td>...</td>\n",
       "      <td>...</td>\n",
       "    </tr>\n",
       "    <tr>\n",
       "      <th>1387427</th>\n",
       "      <td>678999</td>\n",
       "      <td>michael43411218, carol5987, gooddogg1, chris41...</td>\n",
       "    </tr>\n",
       "    <tr>\n",
       "      <th>1387428</th>\n",
       "      <td>1207353</td>\n",
       "      <td>rjhoward1986, jeffrey6870, trolltech4460, elys...</td>\n",
       "    </tr>\n",
       "    <tr>\n",
       "      <th>1387429</th>\n",
       "      <td>1206220</td>\n",
       "      <td>vicky7746, gooddogg1, fairspirit, craig9729960...</td>\n",
       "    </tr>\n",
       "    <tr>\n",
       "      <th>1387430</th>\n",
       "      <td>1206425</td>\n",
       "      <td>rich6705, sergiiy9766, angela7509, barbara5610...</td>\n",
       "    </tr>\n",
       "    <tr>\n",
       "      <th>1387431</th>\n",
       "      <td>1206486</td>\n",
       "      <td>alan5175, amy38101311</td>\n",
       "    </tr>\n",
       "  </tbody>\n",
       "</table>\n",
       "<p>1387432 rows × 2 columns</p>\n",
       "</div>"
      ],
      "text/plain": [
       "         loan_id                                            lenders\n",
       "0         483693  muc888, sam4326, camaran3922, lachheb1865, reb...\n",
       "1         483738  muc888, nora3555, williammanashi, barbara5610,...\n",
       "2         485000  muc888, terrystl, richardandsusan8352, sherri4...\n",
       "3         486087  muc888, james5068, rudi5955, daniel9859, don92...\n",
       "4         534428  muc888, niki3008, teresa9174, mike4896, david7...\n",
       "...          ...                                                ...\n",
       "1387427   678999  michael43411218, carol5987, gooddogg1, chris41...\n",
       "1387428  1207353  rjhoward1986, jeffrey6870, trolltech4460, elys...\n",
       "1387429  1206220  vicky7746, gooddogg1, fairspirit, craig9729960...\n",
       "1387430  1206425  rich6705, sergiiy9766, angela7509, barbara5610...\n",
       "1387431  1206486                              alan5175, amy38101311\n",
       "\n",
       "[1387432 rows x 2 columns]"
      ]
     },
     "execution_count": 4,
     "metadata": {},
     "output_type": "execute_result"
    }
   ],
   "source": [
    "loans_lenders"
   ]
  },
  {
   "cell_type": "markdown",
   "metadata": {},
   "source": [
    "Useremo il metodo *.explode* di pandas che richiede però una lista."
   ]
  },
  {
   "cell_type": "code",
   "execution_count": 5,
   "metadata": {},
   "outputs": [],
   "source": [
    "loans_lenders[\"lenders\"] = loans_lenders.lenders.apply(lambda x: x.split(\",\"))"
   ]
  },
  {
   "cell_type": "code",
   "execution_count": 6,
   "metadata": {},
   "outputs": [],
   "source": [
    "loans_lenders = loans_lenders.explode(\"lenders\").reset_index(drop = True)"
   ]
  },
  {
   "cell_type": "code",
   "execution_count": 7,
   "metadata": {},
   "outputs": [
    {
     "data": {
      "text/html": [
       "<div>\n",
       "<style scoped>\n",
       "    .dataframe tbody tr th:only-of-type {\n",
       "        vertical-align: middle;\n",
       "    }\n",
       "\n",
       "    .dataframe tbody tr th {\n",
       "        vertical-align: top;\n",
       "    }\n",
       "\n",
       "    .dataframe thead th {\n",
       "        text-align: right;\n",
       "    }\n",
       "</style>\n",
       "<table border=\"1\" class=\"dataframe\">\n",
       "  <thead>\n",
       "    <tr style=\"text-align: right;\">\n",
       "      <th></th>\n",
       "      <th>loan_id</th>\n",
       "      <th>lenders</th>\n",
       "    </tr>\n",
       "  </thead>\n",
       "  <tbody>\n",
       "    <tr>\n",
       "      <th>0</th>\n",
       "      <td>483693</td>\n",
       "      <td>muc888</td>\n",
       "    </tr>\n",
       "    <tr>\n",
       "      <th>1</th>\n",
       "      <td>483693</td>\n",
       "      <td>sam4326</td>\n",
       "    </tr>\n",
       "    <tr>\n",
       "      <th>2</th>\n",
       "      <td>483693</td>\n",
       "      <td>camaran3922</td>\n",
       "    </tr>\n",
       "    <tr>\n",
       "      <th>3</th>\n",
       "      <td>483693</td>\n",
       "      <td>lachheb1865</td>\n",
       "    </tr>\n",
       "    <tr>\n",
       "      <th>4</th>\n",
       "      <td>483693</td>\n",
       "      <td>rebecca3499</td>\n",
       "    </tr>\n",
       "    <tr>\n",
       "      <th>...</th>\n",
       "      <td>...</td>\n",
       "      <td>...</td>\n",
       "    </tr>\n",
       "    <tr>\n",
       "      <th>28293926</th>\n",
       "      <td>1206425</td>\n",
       "      <td>trogdorfamily7622</td>\n",
       "    </tr>\n",
       "    <tr>\n",
       "      <th>28293927</th>\n",
       "      <td>1206425</td>\n",
       "      <td>danny6470</td>\n",
       "    </tr>\n",
       "    <tr>\n",
       "      <th>28293928</th>\n",
       "      <td>1206425</td>\n",
       "      <td>don6118</td>\n",
       "    </tr>\n",
       "    <tr>\n",
       "      <th>28293929</th>\n",
       "      <td>1206486</td>\n",
       "      <td>alan5175</td>\n",
       "    </tr>\n",
       "    <tr>\n",
       "      <th>28293930</th>\n",
       "      <td>1206486</td>\n",
       "      <td>amy38101311</td>\n",
       "    </tr>\n",
       "  </tbody>\n",
       "</table>\n",
       "<p>28293931 rows × 2 columns</p>\n",
       "</div>"
      ],
      "text/plain": [
       "          loan_id             lenders\n",
       "0          483693              muc888\n",
       "1          483693             sam4326\n",
       "2          483693         camaran3922\n",
       "3          483693         lachheb1865\n",
       "4          483693         rebecca3499\n",
       "...           ...                 ...\n",
       "28293926  1206425   trogdorfamily7622\n",
       "28293927  1206425           danny6470\n",
       "28293928  1206425             don6118\n",
       "28293929  1206486            alan5175\n",
       "28293930  1206486         amy38101311\n",
       "\n",
       "[28293931 rows x 2 columns]"
      ]
     },
     "execution_count": 7,
     "metadata": {},
     "output_type": "execute_result"
    }
   ],
   "source": [
    "loans_lenders"
   ]
  },
  {
   "cell_type": "markdown",
   "metadata": {},
   "source": [
    "#### 2. For each loan, add a column *duration* corresponding to the number of days between the *disburse time* and the *planned expiration time*. If any of those two dates is missing, also the *duration* must be missing."
   ]
  },
  {
   "cell_type": "code",
   "execution_count": 8,
   "metadata": {},
   "outputs": [],
   "source": [
    "loans = pd.read_csv(\"Datasets/loans.csv\")"
   ]
  },
  {
   "cell_type": "markdown",
   "metadata": {},
   "source": [
    "Per calcolare la durata trasformiamo in formato *datetime* le colonne che ci interessano."
   ]
  },
  {
   "cell_type": "code",
   "execution_count": 9,
   "metadata": {},
   "outputs": [],
   "source": [
    "loans[\"disburse_time\"] = pd.to_datetime(loans[\"disburse_time\"])\n",
    "loans[\"planned_expiration_time\"] = pd.to_datetime(loans[\"planned_expiration_time\"])"
   ]
  },
  {
   "cell_type": "code",
   "execution_count": 10,
   "metadata": {},
   "outputs": [],
   "source": [
    "loans[\"duration\"] = (loans[\"planned_expiration_time\"] - loans[\"disburse_time\"]).dt.days"
   ]
  },
  {
   "cell_type": "code",
   "execution_count": 11,
   "metadata": {},
   "outputs": [
    {
     "data": {
      "text/plain": [
       "0          53.0\n",
       "1          96.0\n",
       "2          37.0\n",
       "3          34.0\n",
       "4          57.0\n",
       "           ... \n",
       "1419602    39.0\n",
       "1419603    39.0\n",
       "1419604    51.0\n",
       "1419605    63.0\n",
       "1419606    61.0\n",
       "Name: duration, Length: 1419607, dtype: float64"
      ]
     },
     "execution_count": 11,
     "metadata": {},
     "output_type": "execute_result"
    }
   ],
   "source": [
    "loans[\"duration\"]"
   ]
  },
  {
   "cell_type": "markdown",
   "metadata": {},
   "source": [
    "#### 3. Find the lenders that have funded at least twice."
   ]
  },
  {
   "cell_type": "code",
   "execution_count": 12,
   "metadata": {},
   "outputs": [],
   "source": [
    "lenders = pd.read_csv(\"Datasets/lenders.csv\")"
   ]
  },
  {
   "cell_type": "markdown",
   "metadata": {},
   "source": [
    "Utilizzeremo la funzione *.loc* per trovare i lenders che abbiano finanziato almeno due volte."
   ]
  },
  {
   "cell_type": "code",
   "execution_count": 13,
   "metadata": {},
   "outputs": [
    {
     "data": {
      "text/html": [
       "<div>\n",
       "<style scoped>\n",
       "    .dataframe tbody tr th:only-of-type {\n",
       "        vertical-align: middle;\n",
       "    }\n",
       "\n",
       "    .dataframe tbody tr th {\n",
       "        vertical-align: top;\n",
       "    }\n",
       "\n",
       "    .dataframe thead th {\n",
       "        text-align: right;\n",
       "    }\n",
       "</style>\n",
       "<table border=\"1\" class=\"dataframe\">\n",
       "  <thead>\n",
       "    <tr style=\"text-align: right;\">\n",
       "      <th></th>\n",
       "      <th>member_since</th>\n",
       "      <th>loan_purchase_num</th>\n",
       "      <th>num_invited</th>\n",
       "    </tr>\n",
       "  </thead>\n",
       "  <tbody>\n",
       "    <tr>\n",
       "      <th>count</th>\n",
       "      <td>2.349174e+06</td>\n",
       "      <td>1.454893e+06</td>\n",
       "      <td>2.349174e+06</td>\n",
       "    </tr>\n",
       "    <tr>\n",
       "      <th>mean</th>\n",
       "      <td>1.352954e+09</td>\n",
       "      <td>1.723265e+01</td>\n",
       "      <td>2.253443e-01</td>\n",
       "    </tr>\n",
       "    <tr>\n",
       "      <th>std</th>\n",
       "      <td>9.643617e+07</td>\n",
       "      <td>1.853678e+02</td>\n",
       "      <td>1.691738e+01</td>\n",
       "    </tr>\n",
       "    <tr>\n",
       "      <th>min</th>\n",
       "      <td>1.136106e+09</td>\n",
       "      <td>0.000000e+00</td>\n",
       "      <td>0.000000e+00</td>\n",
       "    </tr>\n",
       "    <tr>\n",
       "      <th>25%</th>\n",
       "      <td>1.268534e+09</td>\n",
       "      <td>1.000000e+00</td>\n",
       "      <td>0.000000e+00</td>\n",
       "    </tr>\n",
       "    <tr>\n",
       "      <th>50%</th>\n",
       "      <td>1.364078e+09</td>\n",
       "      <td>2.000000e+00</td>\n",
       "      <td>0.000000e+00</td>\n",
       "    </tr>\n",
       "    <tr>\n",
       "      <th>75%</th>\n",
       "      <td>1.429845e+09</td>\n",
       "      <td>9.000000e+00</td>\n",
       "      <td>0.000000e+00</td>\n",
       "    </tr>\n",
       "    <tr>\n",
       "      <th>max</th>\n",
       "      <td>1.515617e+09</td>\n",
       "      <td>8.519000e+04</td>\n",
       "      <td>2.485400e+04</td>\n",
       "    </tr>\n",
       "  </tbody>\n",
       "</table>\n",
       "</div>"
      ],
      "text/plain": [
       "       member_since  loan_purchase_num   num_invited\n",
       "count  2.349174e+06       1.454893e+06  2.349174e+06\n",
       "mean   1.352954e+09       1.723265e+01  2.253443e-01\n",
       "std    9.643617e+07       1.853678e+02  1.691738e+01\n",
       "min    1.136106e+09       0.000000e+00  0.000000e+00\n",
       "25%    1.268534e+09       1.000000e+00  0.000000e+00\n",
       "50%    1.364078e+09       2.000000e+00  0.000000e+00\n",
       "75%    1.429845e+09       9.000000e+00  0.000000e+00\n",
       "max    1.515617e+09       8.519000e+04  2.485400e+04"
      ]
     },
     "execution_count": 13,
     "metadata": {},
     "output_type": "execute_result"
    }
   ],
   "source": [
    "lenders.describe()"
   ]
  },
  {
   "cell_type": "code",
   "execution_count": 14,
   "metadata": {},
   "outputs": [
    {
     "data": {
      "text/plain": [
       "1               reena6733\n",
       "3          andrew86079135\n",
       "6                rene7585\n",
       "7              harald2826\n",
       "11           jennifer4328\n",
       "                ...      \n",
       "2349158             rakhi\n",
       "2349162     james75291930\n",
       "2349164         carol8279\n",
       "2349166      eric91401545\n",
       "2349171         maria2141\n",
       "Name: permanent_name, Length: 877574, dtype: object"
      ]
     },
     "execution_count": 14,
     "metadata": {},
     "output_type": "execute_result"
    }
   ],
   "source": [
    "lenders.loc[lenders[\"loan_purchase_num\"] >= 2][\"permanent_name\"]"
   ]
  },
  {
   "cell_type": "markdown",
   "metadata": {},
   "source": [
    "#### 4. For each country, compute how many loans have involved that country as borrowers."
   ]
  },
  {
   "cell_type": "markdown",
   "metadata": {},
   "source": [
    "Raggruppiamo per nome e contiamo il numero di loan che sono stati richiesti."
   ]
  },
  {
   "cell_type": "code",
   "execution_count": 15,
   "metadata": {},
   "outputs": [
    {
     "data": {
      "text/plain": [
       "country_name\n",
       "Afghanistan        2337\n",
       "Albania            3075\n",
       "Armenia           13952\n",
       "Azerbaijan        10172\n",
       "Belize              218\n",
       "                  ...  \n",
       "Vietnam           21839\n",
       "Virgin Islands        2\n",
       "Yemen              4206\n",
       "Zambia             1277\n",
       "Zimbabwe           5513\n",
       "Name: loan_id, Length: 96, dtype: int64"
      ]
     },
     "execution_count": 15,
     "metadata": {},
     "output_type": "execute_result"
    }
   ],
   "source": [
    "loans.groupby(\"country_name\").count()[\"loan_id\"]"
   ]
  },
  {
   "cell_type": "markdown",
   "metadata": {},
   "source": [
    "#### 5. For each country, compute the overall amount of money borrowed."
   ]
  },
  {
   "cell_type": "markdown",
   "metadata": {},
   "source": [
    "Come al punto precedente, ma questa volta sommiamo il *loan_amount*."
   ]
  },
  {
   "cell_type": "code",
   "execution_count": 16,
   "metadata": {},
   "outputs": [
    {
     "data": {
      "text/plain": [
       "country_name\n",
       "Afghanistan        1967950.0\n",
       "Albania            4307350.0\n",
       "Armenia           22950475.0\n",
       "Azerbaijan        14784625.0\n",
       "Belize              150175.0\n",
       "                     ...    \n",
       "Vietnam           24681100.0\n",
       "Virgin Islands       10000.0\n",
       "Yemen              3444000.0\n",
       "Zambia             1978975.0\n",
       "Zimbabwe           5851875.0\n",
       "Name: loan_amount, Length: 96, dtype: float64"
      ]
     },
     "execution_count": 16,
     "metadata": {},
     "output_type": "execute_result"
    }
   ],
   "source": [
    "loans.groupby(\"country_name\")[\"loan_amount\"].sum()"
   ]
  },
  {
   "cell_type": "markdown",
   "metadata": {},
   "source": [
    "#### 6. Like the previous point, but expressed as a percentage of the overall amount lent."
   ]
  },
  {
   "cell_type": "markdown",
   "metadata": {},
   "source": [
    "Per esprimere come percentuale del totale bisogna prima calcolare il totale con cui poi dividere i vari risultati intermedi."
   ]
  },
  {
   "cell_type": "code",
   "execution_count": 17,
   "metadata": {},
   "outputs": [
    {
     "data": {
      "text/plain": [
       "1181437300.0"
      ]
     },
     "execution_count": 17,
     "metadata": {},
     "output_type": "execute_result"
    }
   ],
   "source": [
    "tot_loan_amount = loans[\"loan_amount\"].sum()\n",
    "tot_loan_amount"
   ]
  },
  {
   "cell_type": "code",
   "execution_count": 18,
   "metadata": {},
   "outputs": [
    {
     "data": {
      "text/plain": [
       "country_name\n",
       "Afghanistan       0.166573\n",
       "Albania           0.364586\n",
       "Armenia           1.942589\n",
       "Azerbaijan        1.251410\n",
       "Belize            0.012711\n",
       "                    ...   \n",
       "Vietnam           2.089074\n",
       "Virgin Islands    0.000846\n",
       "Yemen             0.291509\n",
       "Zambia            0.167506\n",
       "Zimbabwe          0.495318\n",
       "Name: loan_amount, Length: 96, dtype: float64"
      ]
     },
     "execution_count": 18,
     "metadata": {},
     "output_type": "execute_result"
    }
   ],
   "source": [
    "d = loans.groupby(\"country_name\")[\"loan_amount\"].sum() / tot_loan_amount * 100\n",
    "d"
   ]
  },
  {
   "cell_type": "markdown",
   "metadata": {},
   "source": [
    "Controlliamo il risultato sommando tutte le percentuali."
   ]
  },
  {
   "cell_type": "code",
   "execution_count": 19,
   "metadata": {},
   "outputs": [
    {
     "data": {
      "text/plain": [
       "100.0"
      ]
     },
     "execution_count": 19,
     "metadata": {},
     "output_type": "execute_result"
    }
   ],
   "source": [
    "d.sum()"
   ]
  },
  {
   "cell_type": "markdown",
   "metadata": {},
   "source": [
    "#### 7. Like the three previous points, but split for each year (with respect to *disburse time*)."
   ]
  },
  {
   "cell_type": "markdown",
   "metadata": {},
   "source": [
    "Per calcolare la percentuale per ogni anno prima ricaviamo l'anno."
   ]
  },
  {
   "cell_type": "code",
   "execution_count": 20,
   "metadata": {},
   "outputs": [],
   "source": [
    "loans[\"year\"] = loans[\"disburse_time\"].dt.year"
   ]
  },
  {
   "cell_type": "markdown",
   "metadata": {},
   "source": [
    "Successivamente ricaviamo per ogni anno e per ogni paese il quantitativo di soldi presi in prestito."
   ]
  },
  {
   "cell_type": "code",
   "execution_count": 21,
   "metadata": {},
   "outputs": [],
   "source": [
    "loan_country = pd.DataFrame(loans.groupby([\"year\",\"country_name\"])[\"loan_amount\"].sum())"
   ]
  },
  {
   "cell_type": "markdown",
   "metadata": {},
   "source": [
    "E adesso calcoliamo i totali di soldi prestati per ogni anno che ci servirà per effettuare la divisione."
   ]
  },
  {
   "cell_type": "code",
   "execution_count": 22,
   "metadata": {},
   "outputs": [],
   "source": [
    "amount_per_year = pd.DataFrame(loans.groupby(\"year\")[\"loan_amount\"].sum())"
   ]
  },
  {
   "cell_type": "markdown",
   "metadata": {},
   "source": [
    "Uniamo le due tabelle e poi calcoliamo la percentuale."
   ]
  },
  {
   "cell_type": "code",
   "execution_count": 23,
   "metadata": {},
   "outputs": [],
   "source": [
    "res = pd.merge(loan_country, amount_per_year, on = \"year\", suffixes = (\"\", \"_tot_year\")).reset_index()"
   ]
  },
  {
   "cell_type": "code",
   "execution_count": 24,
   "metadata": {},
   "outputs": [],
   "source": [
    "res[\"perc_per_year\"] = res[\"loan_amount\"]/res[\"loan_amount_tot_year\"] * 100"
   ]
  },
  {
   "cell_type": "code",
   "execution_count": 25,
   "metadata": {
    "scrolled": true
   },
   "outputs": [
    {
     "data": {
      "text/html": [
       "<div>\n",
       "<style scoped>\n",
       "    .dataframe tbody tr th:only-of-type {\n",
       "        vertical-align: middle;\n",
       "    }\n",
       "\n",
       "    .dataframe tbody tr th {\n",
       "        vertical-align: top;\n",
       "    }\n",
       "\n",
       "    .dataframe thead th {\n",
       "        text-align: right;\n",
       "    }\n",
       "</style>\n",
       "<table border=\"1\" class=\"dataframe\">\n",
       "  <thead>\n",
       "    <tr style=\"text-align: right;\">\n",
       "      <th></th>\n",
       "      <th>year</th>\n",
       "      <th>loan_amount</th>\n",
       "      <th>loan_amount_tot_year</th>\n",
       "      <th>perc_per_year</th>\n",
       "    </tr>\n",
       "  </thead>\n",
       "  <tbody>\n",
       "    <tr>\n",
       "      <th>0</th>\n",
       "      <td>2005.0</td>\n",
       "      <td>1850.0</td>\n",
       "      <td>102850.0</td>\n",
       "      <td>1.798736</td>\n",
       "    </tr>\n",
       "    <tr>\n",
       "      <th>1</th>\n",
       "      <td>2005.0</td>\n",
       "      <td>1625.0</td>\n",
       "      <td>102850.0</td>\n",
       "      <td>1.579971</td>\n",
       "    </tr>\n",
       "    <tr>\n",
       "      <th>2</th>\n",
       "      <td>2005.0</td>\n",
       "      <td>5000.0</td>\n",
       "      <td>102850.0</td>\n",
       "      <td>4.861449</td>\n",
       "    </tr>\n",
       "    <tr>\n",
       "      <th>3</th>\n",
       "      <td>2005.0</td>\n",
       "      <td>5000.0</td>\n",
       "      <td>102850.0</td>\n",
       "      <td>4.861449</td>\n",
       "    </tr>\n",
       "    <tr>\n",
       "      <th>4</th>\n",
       "      <td>2005.0</td>\n",
       "      <td>33300.0</td>\n",
       "      <td>102850.0</td>\n",
       "      <td>32.377248</td>\n",
       "    </tr>\n",
       "    <tr>\n",
       "      <th>...</th>\n",
       "      <td>...</td>\n",
       "      <td>...</td>\n",
       "      <td>...</td>\n",
       "      <td>...</td>\n",
       "    </tr>\n",
       "    <tr>\n",
       "      <th>743</th>\n",
       "      <td>2018.0</td>\n",
       "      <td>14300.0</td>\n",
       "      <td>990025.0</td>\n",
       "      <td>1.444408</td>\n",
       "    </tr>\n",
       "    <tr>\n",
       "      <th>744</th>\n",
       "      <td>2018.0</td>\n",
       "      <td>26500.0</td>\n",
       "      <td>990025.0</td>\n",
       "      <td>2.676700</td>\n",
       "    </tr>\n",
       "    <tr>\n",
       "      <th>745</th>\n",
       "      <td>2018.0</td>\n",
       "      <td>21750.0</td>\n",
       "      <td>990025.0</td>\n",
       "      <td>2.196914</td>\n",
       "    </tr>\n",
       "    <tr>\n",
       "      <th>746</th>\n",
       "      <td>2018.0</td>\n",
       "      <td>8000.0</td>\n",
       "      <td>990025.0</td>\n",
       "      <td>0.808060</td>\n",
       "    </tr>\n",
       "    <tr>\n",
       "      <th>747</th>\n",
       "      <td>2018.0</td>\n",
       "      <td>13975.0</td>\n",
       "      <td>990025.0</td>\n",
       "      <td>1.411581</td>\n",
       "    </tr>\n",
       "  </tbody>\n",
       "</table>\n",
       "<p>748 rows × 4 columns</p>\n",
       "</div>"
      ],
      "text/plain": [
       "       year  loan_amount  loan_amount_tot_year  perc_per_year\n",
       "0    2005.0       1850.0              102850.0       1.798736\n",
       "1    2005.0       1625.0              102850.0       1.579971\n",
       "2    2005.0       5000.0              102850.0       4.861449\n",
       "3    2005.0       5000.0              102850.0       4.861449\n",
       "4    2005.0      33300.0              102850.0      32.377248\n",
       "..      ...          ...                   ...            ...\n",
       "743  2018.0      14300.0              990025.0       1.444408\n",
       "744  2018.0      26500.0              990025.0       2.676700\n",
       "745  2018.0      21750.0              990025.0       2.196914\n",
       "746  2018.0       8000.0              990025.0       0.808060\n",
       "747  2018.0      13975.0              990025.0       1.411581\n",
       "\n",
       "[748 rows x 4 columns]"
      ]
     },
     "execution_count": 25,
     "metadata": {},
     "output_type": "execute_result"
    }
   ],
   "source": [
    "res"
   ]
  },
  {
   "cell_type": "markdown",
   "metadata": {},
   "source": [
    "Controlliamo che il risultato sia corretto sommando per ogni anno le percentuali."
   ]
  },
  {
   "cell_type": "code",
   "execution_count": 26,
   "metadata": {},
   "outputs": [
    {
     "data": {
      "text/plain": [
       "year\n",
       "2005.0    100.0\n",
       "2006.0    100.0\n",
       "2007.0    100.0\n",
       "2008.0    100.0\n",
       "2009.0    100.0\n",
       "2010.0    100.0\n",
       "2011.0    100.0\n",
       "2012.0    100.0\n",
       "2013.0    100.0\n",
       "2014.0    100.0\n",
       "2015.0    100.0\n",
       "2016.0    100.0\n",
       "2017.0    100.0\n",
       "2018.0    100.0\n",
       "Name: perc_per_year, dtype: float64"
      ]
     },
     "execution_count": 26,
     "metadata": {},
     "output_type": "execute_result"
    }
   ],
   "source": [
    "res.groupby(\"year\")[\"perc_per_year\"].sum()"
   ]
  },
  {
   "cell_type": "markdown",
   "metadata": {},
   "source": [
    "#### 8. For each lender, compute the overall amount of money lent. For each loan that has more than one lender, you must assume that all lenders contributed the same amount."
   ]
  },
  {
   "cell_type": "markdown",
   "metadata": {},
   "source": [
    "Uniamo le due tabelle per ottenere per ogni *loan_id* il corrispettivo *lender*. Dato che per ogni *loan_id* ci possono essere più lenders, in tal caso vengono duplicate le colonne."
   ]
  },
  {
   "cell_type": "code",
   "execution_count": 27,
   "metadata": {
    "scrolled": false
   },
   "outputs": [],
   "source": [
    "df1 = pd.merge(loans, loans_lenders, on = \"loan_id\")\n",
    "df1 = df1[[\"loan_id\", \"loan_amount\", \"lenders\"]]"
   ]
  },
  {
   "cell_type": "markdown",
   "metadata": {},
   "source": [
    "Per ottenere il numero di lenders per ogni loans usiamo *count()*."
   ]
  },
  {
   "cell_type": "code",
   "execution_count": 28,
   "metadata": {},
   "outputs": [],
   "source": [
    "df2 = df1.groupby(\"loan_id\").count()[\"lenders\"]"
   ]
  },
  {
   "cell_type": "code",
   "execution_count": 29,
   "metadata": {},
   "outputs": [],
   "source": [
    "df2 = pd.DataFrame(df2).rename(columns = {\"lenders\":\"num\"}).reset_index()"
   ]
  },
  {
   "cell_type": "markdown",
   "metadata": {},
   "source": [
    "Uniamo le due tabelle per avere la colonna *num* che conta il numero di lenders."
   ]
  },
  {
   "cell_type": "code",
   "execution_count": 30,
   "metadata": {},
   "outputs": [],
   "source": [
    "result = pd.merge(df1, df2, on = \"loan_id\") "
   ]
  },
  {
   "cell_type": "code",
   "execution_count": 31,
   "metadata": {},
   "outputs": [
    {
     "data": {
      "text/html": [
       "<div>\n",
       "<style scoped>\n",
       "    .dataframe tbody tr th:only-of-type {\n",
       "        vertical-align: middle;\n",
       "    }\n",
       "\n",
       "    .dataframe tbody tr th {\n",
       "        vertical-align: top;\n",
       "    }\n",
       "\n",
       "    .dataframe thead th {\n",
       "        text-align: right;\n",
       "    }\n",
       "</style>\n",
       "<table border=\"1\" class=\"dataframe\">\n",
       "  <thead>\n",
       "    <tr style=\"text-align: right;\">\n",
       "      <th></th>\n",
       "      <th>loan_id</th>\n",
       "      <th>num</th>\n",
       "      <th>loan_amount</th>\n",
       "      <th>lenders</th>\n",
       "    </tr>\n",
       "  </thead>\n",
       "  <tbody>\n",
       "    <tr>\n",
       "      <th>0</th>\n",
       "      <td>657307</td>\n",
       "      <td>3</td>\n",
       "      <td>125.0</td>\n",
       "      <td>spencer5657</td>\n",
       "    </tr>\n",
       "    <tr>\n",
       "      <th>1</th>\n",
       "      <td>657307</td>\n",
       "      <td>3</td>\n",
       "      <td>125.0</td>\n",
       "      <td>matthew8640</td>\n",
       "    </tr>\n",
       "    <tr>\n",
       "      <th>2</th>\n",
       "      <td>657307</td>\n",
       "      <td>3</td>\n",
       "      <td>125.0</td>\n",
       "      <td>larry71496105</td>\n",
       "    </tr>\n",
       "    <tr>\n",
       "      <th>3</th>\n",
       "      <td>657259</td>\n",
       "      <td>7</td>\n",
       "      <td>400.0</td>\n",
       "      <td>ltr</td>\n",
       "    </tr>\n",
       "    <tr>\n",
       "      <th>4</th>\n",
       "      <td>657259</td>\n",
       "      <td>7</td>\n",
       "      <td>400.0</td>\n",
       "      <td>andrew5306</td>\n",
       "    </tr>\n",
       "    <tr>\n",
       "      <th>...</th>\n",
       "      <td>...</td>\n",
       "      <td>...</td>\n",
       "      <td>...</td>\n",
       "      <td>...</td>\n",
       "    </tr>\n",
       "    <tr>\n",
       "      <th>28293907</th>\n",
       "      <td>989240</td>\n",
       "      <td>5</td>\n",
       "      <td>175.0</td>\n",
       "      <td>jensdamsgaardvanar</td>\n",
       "    </tr>\n",
       "    <tr>\n",
       "      <th>28293908</th>\n",
       "      <td>989240</td>\n",
       "      <td>5</td>\n",
       "      <td>175.0</td>\n",
       "      <td>david47598776</td>\n",
       "    </tr>\n",
       "    <tr>\n",
       "      <th>28293909</th>\n",
       "      <td>989240</td>\n",
       "      <td>5</td>\n",
       "      <td>175.0</td>\n",
       "      <td>bernd9221</td>\n",
       "    </tr>\n",
       "    <tr>\n",
       "      <th>28293910</th>\n",
       "      <td>989240</td>\n",
       "      <td>5</td>\n",
       "      <td>175.0</td>\n",
       "      <td>valeria98599473</td>\n",
       "    </tr>\n",
       "    <tr>\n",
       "      <th>28293911</th>\n",
       "      <td>989240</td>\n",
       "      <td>5</td>\n",
       "      <td>175.0</td>\n",
       "      <td>donald1853</td>\n",
       "    </tr>\n",
       "  </tbody>\n",
       "</table>\n",
       "<p>28293912 rows × 4 columns</p>\n",
       "</div>"
      ],
      "text/plain": [
       "          loan_id  num  loan_amount             lenders\n",
       "0          657307    3        125.0         spencer5657\n",
       "1          657307    3        125.0         matthew8640\n",
       "2          657307    3        125.0       larry71496105\n",
       "3          657259    7        400.0                 ltr\n",
       "4          657259    7        400.0          andrew5306\n",
       "...           ...  ...          ...                 ...\n",
       "28293907   989240    5        175.0  jensdamsgaardvanar\n",
       "28293908   989240    5        175.0       david47598776\n",
       "28293909   989240    5        175.0           bernd9221\n",
       "28293910   989240    5        175.0     valeria98599473\n",
       "28293911   989240    5        175.0          donald1853\n",
       "\n",
       "[28293912 rows x 4 columns]"
      ]
     },
     "execution_count": 31,
     "metadata": {},
     "output_type": "execute_result"
    }
   ],
   "source": [
    "result[[\"loan_id\", \"num\", \"loan_amount\",\"lenders\"]]"
   ]
  },
  {
   "cell_type": "markdown",
   "metadata": {},
   "source": [
    "Calcoliamo ora il vero contributo prestato dividento l'importo per il numero di lenders."
   ]
  },
  {
   "cell_type": "code",
   "execution_count": 32,
   "metadata": {},
   "outputs": [],
   "source": [
    "result[\"true_amount\"] = result[\"loan_amount\"]/result[\"num\"]"
   ]
  },
  {
   "cell_type": "markdown",
   "metadata": {},
   "source": [
    "Raggruppiamo ottenendo il risultato"
   ]
  },
  {
   "cell_type": "code",
   "execution_count": 33,
   "metadata": {},
   "outputs": [
    {
     "data": {
      "text/plain": [
       "lenders\n",
       " 000               1672.618411\n",
       " 00000             1380.693644\n",
       " 0002              2472.563566\n",
       " 00mike00            52.631579\n",
       " 0101craign0101    2623.565117\n",
       "                      ...     \n",
       "zzanita              87.500000\n",
       "zzcyna7269           55.357143\n",
       "zzinnia              38.000000\n",
       "zzmcfate           2287.291955\n",
       "zzrvmf8538          106.417625\n",
       "Name: true_amount, Length: 1639026, dtype: float64"
      ]
     },
     "execution_count": 33,
     "metadata": {},
     "output_type": "execute_result"
    }
   ],
   "source": [
    "result.groupby(\"lenders\")[\"true_amount\"].sum()"
   ]
  },
  {
   "cell_type": "markdown",
   "metadata": {},
   "source": [
    "#### 9. For each country, compute the difference between the overall amount of money lent and the overall amount of money borrowed. Since the country of the lender is often unknown, you can assume that the true distribution among the countries is the same as the one computed from the rows where the country is known."
   ]
  },
  {
   "cell_type": "markdown",
   "metadata": {},
   "source": [
    "Per prima cosa ottengo la distribuzione dei paesi presenti all'interno del dataset lenders."
   ]
  },
  {
   "cell_type": "code",
   "execution_count": 34,
   "metadata": {},
   "outputs": [],
   "source": [
    "# Conto le presenze di ogni paese\n",
    "d1 = pd.DataFrame(lenders.groupby(\"country_code\")[\"country_code\"].count())"
   ]
  },
  {
   "cell_type": "code",
   "execution_count": 35,
   "metadata": {},
   "outputs": [],
   "source": [
    "d2 = d1.rename(columns = {\"country_code\": \"num\"}).reset_index()"
   ]
  },
  {
   "cell_type": "markdown",
   "metadata": {},
   "source": [
    "Ora calcolo la percentuale di presenza di ogni paese."
   ]
  },
  {
   "cell_type": "code",
   "execution_count": 36,
   "metadata": {},
   "outputs": [],
   "source": [
    "prob = d2[\"num\"] / d2[\"num\"].sum()"
   ]
  },
  {
   "cell_type": "markdown",
   "metadata": {},
   "source": [
    "Per riempire i *missing values* sostituisco i valori mancanti con valori distribuiti secondo le proporzioni di probabilità ottenute alla riga precedente."
   ]
  },
  {
   "cell_type": "code",
   "execution_count": 37,
   "metadata": {},
   "outputs": [],
   "source": [
    "lenders[\"country_code\"].fillna(pd.Series(np.random.choice(d2[\"country_code\"], \n",
    "                                                      p=prob, size=len(lenders))), inplace = True)"
   ]
  },
  {
   "cell_type": "code",
   "execution_count": 38,
   "metadata": {},
   "outputs": [
    {
     "data": {
      "text/plain": [
       "0          US\n",
       "1          US\n",
       "2          CA\n",
       "3          PT\n",
       "4          US\n",
       "           ..\n",
       "2349169    GB\n",
       "2349170    US\n",
       "2349171    US\n",
       "2349172    US\n",
       "2349173    US\n",
       "Name: country_code, Length: 2349174, dtype: object"
      ]
     },
     "execution_count": 38,
     "metadata": {},
     "output_type": "execute_result"
    }
   ],
   "source": [
    "lenders[\"country_code\"]"
   ]
  },
  {
   "cell_type": "markdown",
   "metadata": {},
   "source": [
    "Dopo aver corretto i missing values posso calcolare il totale dei soldi prestati."
   ]
  },
  {
   "cell_type": "code",
   "execution_count": 39,
   "metadata": {},
   "outputs": [],
   "source": [
    "df1 = pd.merge(loans_lenders, loans, on = \"loan_id\")"
   ]
  },
  {
   "cell_type": "code",
   "execution_count": 40,
   "metadata": {},
   "outputs": [],
   "source": [
    "df2 = pd.merge(df1, lenders, left_on = \"lenders\", right_on = \"permanent_name\", suffixes = (\"_loaners\",\"_lenders\"))"
   ]
  },
  {
   "cell_type": "markdown",
   "metadata": {},
   "source": [
    "Calcolo il totale dei soldi presi in prestito raggruppando per il paese dei *loaners*."
   ]
  },
  {
   "cell_type": "code",
   "execution_count": 41,
   "metadata": {},
   "outputs": [],
   "source": [
    "money_borrowed = pd.DataFrame(df2.groupby(\"country_code_loaners\")[\"loan_amount\"].sum()).reset_index()"
   ]
  },
  {
   "cell_type": "markdown",
   "metadata": {},
   "source": [
    "Calcolo il totale dei soldi prestati raggruppando per il paese dei *lenders*."
   ]
  },
  {
   "cell_type": "code",
   "execution_count": 42,
   "metadata": {},
   "outputs": [],
   "source": [
    "money_lent = pd.DataFrame(df2.groupby(\"country_code_lenders\")[\"loan_amount\"].sum()).reset_index()"
   ]
  },
  {
   "cell_type": "code",
   "execution_count": 43,
   "metadata": {},
   "outputs": [
    {
     "data": {
      "text/html": [
       "<div>\n",
       "<style scoped>\n",
       "    .dataframe tbody tr th:only-of-type {\n",
       "        vertical-align: middle;\n",
       "    }\n",
       "\n",
       "    .dataframe tbody tr th {\n",
       "        vertical-align: top;\n",
       "    }\n",
       "\n",
       "    .dataframe thead th {\n",
       "        text-align: right;\n",
       "    }\n",
       "</style>\n",
       "<table border=\"1\" class=\"dataframe\">\n",
       "  <thead>\n",
       "    <tr style=\"text-align: right;\">\n",
       "      <th></th>\n",
       "      <th>country_code</th>\n",
       "      <th>loan_amount_loaners</th>\n",
       "      <th>loan_amount_lenders</th>\n",
       "      <th>difference</th>\n",
       "    </tr>\n",
       "  </thead>\n",
       "  <tbody>\n",
       "    <tr>\n",
       "      <th>0</th>\n",
       "      <td>AF</td>\n",
       "      <td>1966925.0</td>\n",
       "      <td>131750.0</td>\n",
       "      <td>1835175.0</td>\n",
       "    </tr>\n",
       "    <tr>\n",
       "      <th>1</th>\n",
       "      <td>AL</td>\n",
       "      <td>4283750.0</td>\n",
       "      <td>28500.0</td>\n",
       "      <td>4255250.0</td>\n",
       "    </tr>\n",
       "    <tr>\n",
       "      <th>2</th>\n",
       "      <td>AM</td>\n",
       "      <td>22901100.0</td>\n",
       "      <td>37075.0</td>\n",
       "      <td>22864025.0</td>\n",
       "    </tr>\n",
       "    <tr>\n",
       "      <th>3</th>\n",
       "      <td>AZ</td>\n",
       "      <td>14749025.0</td>\n",
       "      <td>7650.0</td>\n",
       "      <td>14741375.0</td>\n",
       "    </tr>\n",
       "    <tr>\n",
       "      <th>4</th>\n",
       "      <td>BA</td>\n",
       "      <td>476275.0</td>\n",
       "      <td>97450.0</td>\n",
       "      <td>378825.0</td>\n",
       "    </tr>\n",
       "    <tr>\n",
       "      <th>...</th>\n",
       "      <td>...</td>\n",
       "      <td>...</td>\n",
       "      <td>...</td>\n",
       "      <td>...</td>\n",
       "    </tr>\n",
       "    <tr>\n",
       "      <th>84</th>\n",
       "      <td>XK</td>\n",
       "      <td>3083025.0</td>\n",
       "      <td>15475.0</td>\n",
       "      <td>3067550.0</td>\n",
       "    </tr>\n",
       "    <tr>\n",
       "      <th>85</th>\n",
       "      <td>YE</td>\n",
       "      <td>3440250.0</td>\n",
       "      <td>47875.0</td>\n",
       "      <td>3392375.0</td>\n",
       "    </tr>\n",
       "    <tr>\n",
       "      <th>86</th>\n",
       "      <td>ZA</td>\n",
       "      <td>1006525.0</td>\n",
       "      <td>689900.0</td>\n",
       "      <td>316625.0</td>\n",
       "    </tr>\n",
       "    <tr>\n",
       "      <th>87</th>\n",
       "      <td>ZM</td>\n",
       "      <td>1975075.0</td>\n",
       "      <td>18950.0</td>\n",
       "      <td>1956125.0</td>\n",
       "    </tr>\n",
       "    <tr>\n",
       "      <th>88</th>\n",
       "      <td>ZW</td>\n",
       "      <td>5845575.0</td>\n",
       "      <td>19650.0</td>\n",
       "      <td>5825925.0</td>\n",
       "    </tr>\n",
       "  </tbody>\n",
       "</table>\n",
       "<p>89 rows × 4 columns</p>\n",
       "</div>"
      ],
      "text/plain": [
       "   country_code  loan_amount_loaners  loan_amount_lenders  difference\n",
       "0            AF            1966925.0             131750.0   1835175.0\n",
       "1            AL            4283750.0              28500.0   4255250.0\n",
       "2            AM           22901100.0              37075.0  22864025.0\n",
       "3            AZ           14749025.0               7650.0  14741375.0\n",
       "4            BA             476275.0              97450.0    378825.0\n",
       "..          ...                  ...                  ...         ...\n",
       "84           XK            3083025.0              15475.0   3067550.0\n",
       "85           YE            3440250.0              47875.0   3392375.0\n",
       "86           ZA            1006525.0             689900.0    316625.0\n",
       "87           ZM            1975075.0              18950.0   1956125.0\n",
       "88           ZW            5845575.0              19650.0   5825925.0\n",
       "\n",
       "[89 rows x 4 columns]"
      ]
     },
     "execution_count": 43,
     "metadata": {},
     "output_type": "execute_result"
    }
   ],
   "source": [
    "money = pd.merge(money_borrowed, money_lent, left_on = \"country_code_loaners\", right_on = \"country_code_lenders\", suffixes = (\"_loaners\",\"_lenders\"))\n",
    "money[\"difference\"] = money[\"loan_amount_loaners\"] - money[\"loan_amount_lenders\"]\n",
    "money = money.rename(columns = {\"country_code_loaners\":\"country_code\"}).drop(\"country_code_lenders\", axis = 1)\n",
    "money"
   ]
  },
  {
   "cell_type": "markdown",
   "metadata": {},
   "source": [
    "Valori positivi indicano che il paese ha ricevuto più di quanto ha prestato, viceversa significa che il paese ha prestato più soldi di quanto ha ricevuto"
   ]
  },
  {
   "cell_type": "markdown",
   "metadata": {},
   "source": [
    "#### 10. Which country has the highest ratio between the difference computed at the previous point and the population?"
   ]
  },
  {
   "cell_type": "code",
   "execution_count": 46,
   "metadata": {},
   "outputs": [],
   "source": [
    "country_stats = pd.read_csv(\"Datasets/country_stats.csv\")"
   ]
  },
  {
   "cell_type": "markdown",
   "metadata": {},
   "source": [
    "Utilizzando la tabella ricavata nel punto precedente la uniamo con la tabella contenente i dati sulla popolazione dei paesi."
   ]
  },
  {
   "cell_type": "code",
   "execution_count": 47,
   "metadata": {},
   "outputs": [
    {
     "data": {
      "text/plain": [
       "country_name                           Samoa\n",
       "country_code                              WS\n",
       "country_code3                            WSM\n",
       "continent                            Oceania\n",
       "region                             Polynesia\n",
       "population                            196440\n",
       "population_below_poverty_line            NaN\n",
       "hdi                                    0.702\n",
       "life_expectancy                          NaN\n",
       "expected_years_of_schooling              NaN\n",
       "mean_years_of_schooling                  NaN\n",
       "gni                                      NaN\n",
       "kiva_country_name                      Samoa\n",
       "loan_amount_loaners              1.21832e+07\n",
       "loan_amount_lenders                      800\n",
       "difference                       1.21824e+07\n",
       "ratio                                62.0159\n",
       "Name: 83, dtype: object"
      ]
     },
     "execution_count": 47,
     "metadata": {},
     "output_type": "execute_result"
    }
   ],
   "source": [
    "country = pd.merge(country_stats, money, on = \"country_code\")\n",
    "country[\"ratio\"] = country[\"difference\"]/country[\"population\"]\n",
    "m = country[\"ratio\"].idxmax()\n",
    "country.loc[m]"
   ]
  },
  {
   "cell_type": "markdown",
   "metadata": {},
   "source": [
    "#### 11. Which country has the highest ratio between the difference computed at point 9 and the population that is not below the poverty line?"
   ]
  },
  {
   "cell_type": "markdown",
   "metadata": {},
   "source": [
    "La risoluzione è identica a quella del punto precedente."
   ]
  },
  {
   "cell_type": "code",
   "execution_count": 48,
   "metadata": {},
   "outputs": [
    {
     "data": {
      "text/plain": [
       "country_name                            Philippines\n",
       "country_code                                     PH\n",
       "country_code3                                   PHL\n",
       "continent                                      Asia\n",
       "region                           South-eastern Asia\n",
       "population                                104918090\n",
       "population_below_poverty_line                  21.6\n",
       "hdi                                        0.681799\n",
       "life_expectancy                               68.34\n",
       "expected_years_of_schooling                  11.733\n",
       "mean_years_of_schooling                     9.32687\n",
       "gni                                         8395.09\n",
       "kiva_country_name                       Philippines\n",
       "loan_amount_loaners                     9.06737e+07\n",
       "loan_amount_lenders                      1.3515e+06\n",
       "difference                              8.93222e+07\n",
       "ratio                                      0.851352\n",
       "ratio2                                  4.13529e+06\n",
       "Name: 9, dtype: object"
      ]
     },
     "execution_count": 48,
     "metadata": {},
     "output_type": "execute_result"
    }
   ],
   "source": [
    "country[\"ratio2\"] = country[\"difference\"]/country[\"population_below_poverty_line\"]\n",
    "n = country[\"ratio2\"].idxmax()\n",
    "country.loc[n]"
   ]
  },
  {
   "cell_type": "markdown",
   "metadata": {},
   "source": [
    "#### 12. For each year, compute the total amount of loans. Each loan that has planned expiration time and disburse time in different years must have its amount distributed proportionally to the number of days in each year. For example, a loan with disburse time December 1st, 2016, planned expiration time January 30th 2018, and amount 5000USD has an amount of 5000USD * 31 / (31+365+30) = 363.85 for 2016, 5000USD * 365 / (31+365+30) = 4284.04 for 2017, and 5000USD * 30 / (31+365+30) = 352.11 for 2018."
   ]
  },
  {
   "cell_type": "markdown",
   "metadata": {},
   "source": [
    "Importiamo la libreria datetime che ci servirà successivamente."
   ]
  },
  {
   "cell_type": "code",
   "execution_count": 49,
   "metadata": {},
   "outputs": [],
   "source": [
    "import datetime"
   ]
  },
  {
   "cell_type": "markdown",
   "metadata": {},
   "source": [
    "Selezioniamo solo le variabili che ci saranno utili."
   ]
  },
  {
   "cell_type": "code",
   "execution_count": 50,
   "metadata": {},
   "outputs": [],
   "source": [
    "df = loans[[\"loan_id\",\"loan_amount\", \"disburse_time\", \"planned_expiration_time\"]]"
   ]
  },
  {
   "cell_type": "markdown",
   "metadata": {},
   "source": [
    "Dividiamo il dataset, in base alla differenza o non tra l'anno di *disburse_time* e l'anno di *planned_expiration_time*."
   ]
  },
  {
   "cell_type": "code",
   "execution_count": 51,
   "metadata": {},
   "outputs": [],
   "source": [
    "same_year = df[df[\"disburse_time\"].dt.year == df[\"planned_expiration_time\"].dt.year]\n",
    "diff_year = df[df[\"disburse_time\"].dt.year != df[\"planned_expiration_time\"].dt.year]"
   ]
  },
  {
   "cell_type": "markdown",
   "metadata": {},
   "source": [
    "Calcoliamo il risultato per il dataset *same_year*, e successivamente sommeremo questo risultato ai risultati ottenuti dall'altra tabella."
   ]
  },
  {
   "cell_type": "code",
   "execution_count": 52,
   "metadata": {},
   "outputs": [
    {
     "name": "stderr",
     "output_type": "stream",
     "text": [
      "C:\\Users\\Marco\\anaconda3\\lib\\site-packages\\ipykernel_launcher.py:1: SettingWithCopyWarning: \n",
      "A value is trying to be set on a copy of a slice from a DataFrame.\n",
      "Try using .loc[row_indexer,col_indexer] = value instead\n",
      "\n",
      "See the caveats in the documentation: https://pandas.pydata.org/pandas-docs/stable/user_guide/indexing.html#returning-a-view-versus-a-copy\n",
      "  \"\"\"Entry point for launching an IPython kernel.\n"
     ]
    }
   ],
   "source": [
    "same_year[\"year\"] = same_year[\"disburse_time\"].dt.year\n",
    "same = pd.DataFrame(same_year.groupby(\"year\")[\"loan_amount\"].sum())"
   ]
  },
  {
   "cell_type": "markdown",
   "metadata": {},
   "source": [
    "Per lavorare con l'altro dataset inizialmente eliminiamo le righe che presentano valori mancanti oppure se *planned_expiration_time* è precedente a *disburse_time*."
   ]
  },
  {
   "cell_type": "code",
   "execution_count": 53,
   "metadata": {},
   "outputs": [],
   "source": [
    "diff_year = diff_year.loc[(diff_year[\"planned_expiration_time\"].isnull() == False) | (diff_year[\"disburse_time\"].isnull() == False)]\n",
    "diff_year = diff_year.loc[diff_year[\"planned_expiration_time\"] > diff_year[\"disburse_time\"]]"
   ]
  },
  {
   "cell_type": "markdown",
   "metadata": {},
   "source": [
    "Adesso ripetiamo le righe per il numero di anni che intercorrono, ovviamente se solo un anno è passato la riga verrà ripetuta una sola volta."
   ]
  },
  {
   "cell_type": "code",
   "execution_count": 54,
   "metadata": {},
   "outputs": [],
   "source": [
    "diff_year = diff_year.loc[diff_year.index.repeat(diff_year[\"planned_expiration_time\"].dt.year - diff_year[\"disburse_time\"].dt.year + 1)]"
   ]
  },
  {
   "cell_type": "markdown",
   "metadata": {},
   "source": [
    "Creiamo ora tre nuove colonne, una rappresenta un conteggio della ripetizione delle righe (*count_year*), l'altra invece è un conteggio in termini di anni a partire dall'anno di *disburse_time* fino all'anno di *planned_expiration_time* (*count*). Infine l'ultima ha come valore la fine dell'anno di disburse_time (*end_year*)."
   ]
  },
  {
   "cell_type": "code",
   "execution_count": 55,
   "metadata": {},
   "outputs": [],
   "source": [
    "diff_year[\"count\"] = diff_year.groupby(\"loan_id\").cumcount()\n",
    "diff_year[\"count_year\"] = pd.to_datetime(diff_year.groupby(\"loan_id\").cumcount() + diff_year[\"disburse_time\"].dt.year, format = \"%Y\")\n",
    "diff_year[\"end_year\"] = diff_year[\"disburse_time\"].dt.year.apply(lambda x: datetime.datetime(x, 12, 31))"
   ]
  },
  {
   "cell_type": "markdown",
   "metadata": {},
   "source": [
    "Dato che per i passaggi successivi la timezone potrebbe creare qualche problema, la eliminiamo dalle date. Inoltre resettiamo l'indice per lo stesso motivo precedente."
   ]
  },
  {
   "cell_type": "code",
   "execution_count": 56,
   "metadata": {},
   "outputs": [],
   "source": [
    "diff_year[\"planned_expiration_time\"] = diff_year[\"planned_expiration_time\"].dt.tz_localize(None)\n",
    "diff_year[\"disburse_time\"] = diff_year[\"disburse_time\"].dt.tz_localize(None)\n",
    "diff_year = diff_year.reset_index()"
   ]
  },
  {
   "cell_type": "markdown",
   "metadata": {},
   "source": [
    "Definiamo ora la colonna *useful_days*, alla quale, nel caso il conteggio in termini di anni sia uguale al *disburse_time* assegnamo il valore della differenza (in giorni) tra la fine dell'anno e il *disburse_time*. Invece se è diverso assegna la differenza (sempre in giorni) tra *planned_expiration_time* e il primo giorno dell'anno di *count_year*."
   ]
  },
  {
   "cell_type": "code",
   "execution_count": 57,
   "metadata": {},
   "outputs": [],
   "source": [
    "diff_year.loc[diff_year[\"count_year\"].dt.year == diff_year[\"disburse_time\"].dt.year, \"useful_days\"] = (diff_year[\"end_year\"] - diff_year[\"disburse_time\"]).dt.days\n",
    "diff_year.loc[diff_year[\"count_year\"].dt.year != diff_year[\"disburse_time\"].dt.year, \"useful_days\"] = (diff_year[\"planned_expiration_time\"] - diff_year[\"count_year\"]).dt.days"
   ]
  },
  {
   "cell_type": "markdown",
   "metadata": {},
   "source": [
    "Ovviamente sorgono problemi, poichè tutte le righe duplicate che presentano un conteggio diverso da 0 e diverso dall'ultimo numero disponibile presentano la differenza in giorni tra *planned_expiration_time* e l'inizio ma **di un anno diverso**. Per correggere assegnamo a tutti i valori superiori a 365 (i giorni in un anno) il valore di 365. Se l'anno è bisestile invece assegnamo il valore di 366."
   ]
  },
  {
   "cell_type": "code",
   "execution_count": 58,
   "metadata": {},
   "outputs": [],
   "source": [
    "diff_year.loc[(diff_year[\"useful_days\"] > 365) & (diff_year[\"count_year\"].dt.is_leap_year == True), \"useful_days\"] = 366\n",
    "diff_year.loc[(diff_year[\"useful_days\"] > 365) & (diff_year[\"count_year\"].dt.is_leap_year == False), \"useful_days\"] = 365"
   ]
  },
  {
   "cell_type": "markdown",
   "metadata": {},
   "source": [
    "Dopo che abbiamo ottenuto i risultati possiamo finalmente procedere a calcolare il *loan_amount* per anno. Per prima cosa raggruppiamo per *loan_id* e sommiamo gli *useful_days*, così da ottenere il totale dei giorni per ogni loan.\n",
    "Successivamente aggiungiamo l'informazione appena ottenuta al nostro dataset precedente *diff_year*, e calcoliamo la proporzione di *loan_amount* rispetto ai giorni."
   ]
  },
  {
   "cell_type": "code",
   "execution_count": 59,
   "metadata": {},
   "outputs": [
    {
     "data": {
      "text/html": [
       "<div>\n",
       "<style scoped>\n",
       "    .dataframe tbody tr th:only-of-type {\n",
       "        vertical-align: middle;\n",
       "    }\n",
       "\n",
       "    .dataframe tbody tr th {\n",
       "        vertical-align: top;\n",
       "    }\n",
       "\n",
       "    .dataframe thead th {\n",
       "        text-align: right;\n",
       "    }\n",
       "</style>\n",
       "<table border=\"1\" class=\"dataframe\">\n",
       "  <thead>\n",
       "    <tr style=\"text-align: right;\">\n",
       "      <th></th>\n",
       "      <th>index</th>\n",
       "      <th>loan_id</th>\n",
       "      <th>loan_amount</th>\n",
       "      <th>disburse_time</th>\n",
       "      <th>planned_expiration_time</th>\n",
       "      <th>count</th>\n",
       "      <th>count_year</th>\n",
       "      <th>end_year</th>\n",
       "      <th>useful_days</th>\n",
       "      <th>useful_days_tot</th>\n",
       "      <th>true_amount</th>\n",
       "    </tr>\n",
       "  </thead>\n",
       "  <tbody>\n",
       "    <tr>\n",
       "      <th>0</th>\n",
       "      <td>0</td>\n",
       "      <td>657307</td>\n",
       "      <td>125.0</td>\n",
       "      <td>2013-12-22 08:00:00</td>\n",
       "      <td>2014-02-14 03:30:06</td>\n",
       "      <td>0</td>\n",
       "      <td>2013-01-01</td>\n",
       "      <td>2013-12-31</td>\n",
       "      <td>8.0</td>\n",
       "      <td>52.0</td>\n",
       "      <td>19.230769</td>\n",
       "    </tr>\n",
       "    <tr>\n",
       "      <th>1</th>\n",
       "      <td>0</td>\n",
       "      <td>657307</td>\n",
       "      <td>125.0</td>\n",
       "      <td>2013-12-22 08:00:00</td>\n",
       "      <td>2014-02-14 03:30:06</td>\n",
       "      <td>1</td>\n",
       "      <td>2014-01-01</td>\n",
       "      <td>2013-12-31</td>\n",
       "      <td>44.0</td>\n",
       "      <td>52.0</td>\n",
       "      <td>105.769231</td>\n",
       "    </tr>\n",
       "    <tr>\n",
       "      <th>2</th>\n",
       "      <td>1</td>\n",
       "      <td>657259</td>\n",
       "      <td>400.0</td>\n",
       "      <td>2013-12-20 08:00:00</td>\n",
       "      <td>2014-03-26 22:25:07</td>\n",
       "      <td>0</td>\n",
       "      <td>2013-01-01</td>\n",
       "      <td>2013-12-31</td>\n",
       "      <td>10.0</td>\n",
       "      <td>94.0</td>\n",
       "      <td>42.553191</td>\n",
       "    </tr>\n",
       "    <tr>\n",
       "      <th>3</th>\n",
       "      <td>1</td>\n",
       "      <td>657259</td>\n",
       "      <td>400.0</td>\n",
       "      <td>2013-12-20 08:00:00</td>\n",
       "      <td>2014-03-26 22:25:07</td>\n",
       "      <td>1</td>\n",
       "      <td>2014-01-01</td>\n",
       "      <td>2013-12-31</td>\n",
       "      <td>84.0</td>\n",
       "      <td>94.0</td>\n",
       "      <td>357.446809</td>\n",
       "    </tr>\n",
       "    <tr>\n",
       "      <th>4</th>\n",
       "      <td>4</td>\n",
       "      <td>656933</td>\n",
       "      <td>425.0</td>\n",
       "      <td>2013-12-17 08:00:00</td>\n",
       "      <td>2014-02-13 06:10:02</td>\n",
       "      <td>0</td>\n",
       "      <td>2013-01-01</td>\n",
       "      <td>2013-12-31</td>\n",
       "      <td>13.0</td>\n",
       "      <td>56.0</td>\n",
       "      <td>98.660714</td>\n",
       "    </tr>\n",
       "    <tr>\n",
       "      <th>...</th>\n",
       "      <td>...</td>\n",
       "      <td>...</td>\n",
       "      <td>...</td>\n",
       "      <td>...</td>\n",
       "      <td>...</td>\n",
       "      <td>...</td>\n",
       "      <td>...</td>\n",
       "      <td>...</td>\n",
       "      <td>...</td>\n",
       "      <td>...</td>\n",
       "      <td>...</td>\n",
       "    </tr>\n",
       "    <tr>\n",
       "      <th>302198</th>\n",
       "      <td>1419604</td>\n",
       "      <td>989109</td>\n",
       "      <td>2425.0</td>\n",
       "      <td>2015-11-13 08:00:00</td>\n",
       "      <td>2016-01-03 22:20:04</td>\n",
       "      <td>1</td>\n",
       "      <td>2016-01-01</td>\n",
       "      <td>2015-12-31</td>\n",
       "      <td>2.0</td>\n",
       "      <td>49.0</td>\n",
       "      <td>98.979592</td>\n",
       "    </tr>\n",
       "    <tr>\n",
       "      <th>302199</th>\n",
       "      <td>1419605</td>\n",
       "      <td>989143</td>\n",
       "      <td>100.0</td>\n",
       "      <td>2015-11-03 08:00:00</td>\n",
       "      <td>2016-01-05 08:50:02</td>\n",
       "      <td>0</td>\n",
       "      <td>2015-01-01</td>\n",
       "      <td>2015-12-31</td>\n",
       "      <td>57.0</td>\n",
       "      <td>61.0</td>\n",
       "      <td>93.442623</td>\n",
       "    </tr>\n",
       "    <tr>\n",
       "      <th>302200</th>\n",
       "      <td>1419605</td>\n",
       "      <td>989143</td>\n",
       "      <td>100.0</td>\n",
       "      <td>2015-11-03 08:00:00</td>\n",
       "      <td>2016-01-05 08:50:02</td>\n",
       "      <td>1</td>\n",
       "      <td>2016-01-01</td>\n",
       "      <td>2015-12-31</td>\n",
       "      <td>4.0</td>\n",
       "      <td>61.0</td>\n",
       "      <td>6.557377</td>\n",
       "    </tr>\n",
       "    <tr>\n",
       "      <th>302201</th>\n",
       "      <td>1419606</td>\n",
       "      <td>989240</td>\n",
       "      <td>175.0</td>\n",
       "      <td>2015-11-03 08:00:00</td>\n",
       "      <td>2016-01-03 20:50:06</td>\n",
       "      <td>0</td>\n",
       "      <td>2015-01-01</td>\n",
       "      <td>2015-12-31</td>\n",
       "      <td>57.0</td>\n",
       "      <td>59.0</td>\n",
       "      <td>169.067797</td>\n",
       "    </tr>\n",
       "    <tr>\n",
       "      <th>302202</th>\n",
       "      <td>1419606</td>\n",
       "      <td>989240</td>\n",
       "      <td>175.0</td>\n",
       "      <td>2015-11-03 08:00:00</td>\n",
       "      <td>2016-01-03 20:50:06</td>\n",
       "      <td>1</td>\n",
       "      <td>2016-01-01</td>\n",
       "      <td>2015-12-31</td>\n",
       "      <td>2.0</td>\n",
       "      <td>59.0</td>\n",
       "      <td>5.932203</td>\n",
       "    </tr>\n",
       "  </tbody>\n",
       "</table>\n",
       "<p>302203 rows × 11 columns</p>\n",
       "</div>"
      ],
      "text/plain": [
       "          index  loan_id  loan_amount       disburse_time  \\\n",
       "0             0   657307        125.0 2013-12-22 08:00:00   \n",
       "1             0   657307        125.0 2013-12-22 08:00:00   \n",
       "2             1   657259        400.0 2013-12-20 08:00:00   \n",
       "3             1   657259        400.0 2013-12-20 08:00:00   \n",
       "4             4   656933        425.0 2013-12-17 08:00:00   \n",
       "...         ...      ...          ...                 ...   \n",
       "302198  1419604   989109       2425.0 2015-11-13 08:00:00   \n",
       "302199  1419605   989143        100.0 2015-11-03 08:00:00   \n",
       "302200  1419605   989143        100.0 2015-11-03 08:00:00   \n",
       "302201  1419606   989240        175.0 2015-11-03 08:00:00   \n",
       "302202  1419606   989240        175.0 2015-11-03 08:00:00   \n",
       "\n",
       "       planned_expiration_time  count count_year   end_year  useful_days  \\\n",
       "0          2014-02-14 03:30:06      0 2013-01-01 2013-12-31          8.0   \n",
       "1          2014-02-14 03:30:06      1 2014-01-01 2013-12-31         44.0   \n",
       "2          2014-03-26 22:25:07      0 2013-01-01 2013-12-31         10.0   \n",
       "3          2014-03-26 22:25:07      1 2014-01-01 2013-12-31         84.0   \n",
       "4          2014-02-13 06:10:02      0 2013-01-01 2013-12-31         13.0   \n",
       "...                        ...    ...        ...        ...          ...   \n",
       "302198     2016-01-03 22:20:04      1 2016-01-01 2015-12-31          2.0   \n",
       "302199     2016-01-05 08:50:02      0 2015-01-01 2015-12-31         57.0   \n",
       "302200     2016-01-05 08:50:02      1 2016-01-01 2015-12-31          4.0   \n",
       "302201     2016-01-03 20:50:06      0 2015-01-01 2015-12-31         57.0   \n",
       "302202     2016-01-03 20:50:06      1 2016-01-01 2015-12-31          2.0   \n",
       "\n",
       "        useful_days_tot  true_amount  \n",
       "0                  52.0    19.230769  \n",
       "1                  52.0   105.769231  \n",
       "2                  94.0    42.553191  \n",
       "3                  94.0   357.446809  \n",
       "4                  56.0    98.660714  \n",
       "...                 ...          ...  \n",
       "302198             49.0    98.979592  \n",
       "302199             61.0    93.442623  \n",
       "302200             61.0     6.557377  \n",
       "302201             59.0   169.067797  \n",
       "302202             59.0     5.932203  \n",
       "\n",
       "[302203 rows x 11 columns]"
      ]
     },
     "execution_count": 59,
     "metadata": {},
     "output_type": "execute_result"
    }
   ],
   "source": [
    "days = pd.DataFrame(diff_year.groupby(\"loan_id\")[\"useful_days\"].sum())\n",
    "result = pd.merge(diff_year, days, on = \"loan_id\", suffixes = (\"\",\"_tot\"))\n",
    "result[\"true_amount\"] = result[\"loan_amount\"]*result[\"useful_days\"] / result[\"useful_days_tot\"]\n",
    "result"
   ]
  },
  {
   "cell_type": "markdown",
   "metadata": {},
   "source": [
    "Adesso possiamo raggruppare per anno (*count_year* poichè è l'unica varaibile che tiene conto dei vari anni) e sommare il *true_amount*."
   ]
  },
  {
   "cell_type": "code",
   "execution_count": 60,
   "metadata": {},
   "outputs": [],
   "source": [
    "diff = pd.DataFrame(result.groupby(\"count_year\")[\"true_amount\"].sum()).reset_index()\n",
    "diff[\"count_year\"] = diff[\"count_year\"].dt.year"
   ]
  },
  {
   "cell_type": "markdown",
   "metadata": {},
   "source": [
    "Infine sommiamo i risultati con la tabella *same* calcolata precedentemente."
   ]
  },
  {
   "cell_type": "code",
   "execution_count": 61,
   "metadata": {},
   "outputs": [],
   "source": [
    "final = pd.merge(diff,same, left_on = \"count_year\", right_on=\"year\")\n",
    "final[\"amount_per_year\"] = final[\"true_amount\"] + final[\"loan_amount\"]"
   ]
  },
  {
   "cell_type": "code",
   "execution_count": 62,
   "metadata": {},
   "outputs": [
    {
     "data": {
      "text/html": [
       "<div>\n",
       "<style scoped>\n",
       "    .dataframe tbody tr th:only-of-type {\n",
       "        vertical-align: middle;\n",
       "    }\n",
       "\n",
       "    .dataframe tbody tr th {\n",
       "        vertical-align: top;\n",
       "    }\n",
       "\n",
       "    .dataframe thead th {\n",
       "        text-align: right;\n",
       "    }\n",
       "</style>\n",
       "<table border=\"1\" class=\"dataframe\">\n",
       "  <thead>\n",
       "    <tr style=\"text-align: right;\">\n",
       "      <th></th>\n",
       "      <th>count_year</th>\n",
       "      <th>amount_per_year</th>\n",
       "    </tr>\n",
       "  </thead>\n",
       "  <tbody>\n",
       "    <tr>\n",
       "      <th>0</th>\n",
       "      <td>2012</td>\n",
       "      <td>1.132958e+08</td>\n",
       "    </tr>\n",
       "    <tr>\n",
       "      <th>1</th>\n",
       "      <td>2013</td>\n",
       "      <td>1.249480e+08</td>\n",
       "    </tr>\n",
       "    <tr>\n",
       "      <th>2</th>\n",
       "      <td>2014</td>\n",
       "      <td>1.531481e+08</td>\n",
       "    </tr>\n",
       "    <tr>\n",
       "      <th>3</th>\n",
       "      <td>2015</td>\n",
       "      <td>1.597593e+08</td>\n",
       "    </tr>\n",
       "    <tr>\n",
       "      <th>4</th>\n",
       "      <td>2016</td>\n",
       "      <td>1.589647e+08</td>\n",
       "    </tr>\n",
       "    <tr>\n",
       "      <th>5</th>\n",
       "      <td>2017</td>\n",
       "      <td>1.719490e+08</td>\n",
       "    </tr>\n",
       "    <tr>\n",
       "      <th>6</th>\n",
       "      <td>2018</td>\n",
       "      <td>5.633502e+06</td>\n",
       "    </tr>\n",
       "  </tbody>\n",
       "</table>\n",
       "</div>"
      ],
      "text/plain": [
       "   count_year  amount_per_year\n",
       "0        2012     1.132958e+08\n",
       "1        2013     1.249480e+08\n",
       "2        2014     1.531481e+08\n",
       "3        2015     1.597593e+08\n",
       "4        2016     1.589647e+08\n",
       "5        2017     1.719490e+08\n",
       "6        2018     5.633502e+06"
      ]
     },
     "execution_count": 62,
     "metadata": {},
     "output_type": "execute_result"
    }
   ],
   "source": [
    "final[[\"count_year\",\"amount_per_year\"]]"
   ]
  }
 ],
 "metadata": {
  "kernelspec": {
   "display_name": "Python 3",
   "language": "python",
   "name": "python3"
  },
  "language_info": {
   "codemirror_mode": {
    "name": "ipython",
    "version": 3
   },
   "file_extension": ".py",
   "mimetype": "text/x-python",
   "name": "python",
   "nbconvert_exporter": "python",
   "pygments_lexer": "ipython3",
   "version": "3.7.6"
  }
 },
 "nbformat": 4,
 "nbformat_minor": 4
}
